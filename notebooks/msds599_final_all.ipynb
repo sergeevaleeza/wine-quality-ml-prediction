{
 "cells": [
  {
   "cell_type": "markdown",
   "id": "802316fa",
   "metadata": {
    "id": "82a07940"
   },
   "source": [
    "# Final Projct\n",
    "### Leeza Sergeeva\n",
    "### Thomas Boisvert"
   ]
  },
  {
   "cell_type": "code",
   "execution_count": 1,
   "id": "cdf068cd",
   "metadata": {
    "colab": {
     "base_uri": "https://localhost:8080/"
    },
    "id": "njQPU_lx0e_X",
    "outputId": "92b5f24a-0ed1-4e7b-8873-d579994acbd2"
   },
   "outputs": [],
   "source": [
    "#from google.colab import drive\n",
    "#drive.mount('/content/drive/')"
   ]
  },
  {
   "cell_type": "code",
   "execution_count": 2,
   "id": "4de91186",
   "metadata": {
    "id": "d764689b"
   },
   "outputs": [],
   "source": [
    "import pandas as pd\n",
    "import numpy as np\n",
    "import matplotlib.pyplot as plt\n",
    "import seaborn as sns\n",
    "from scipy import stats"
   ]
  },
  {
   "cell_type": "code",
   "execution_count": 3,
   "id": "5ce0bb40",
   "metadata": {
    "id": "wmTsHmB6H383"
   },
   "outputs": [],
   "source": [
    "from sklearn.model_selection import cross_validate\n",
    "from sklearn.model_selection import train_test_split\n",
    "from sklearn.metrics import mean_squared_error\n",
    "from sklearn.metrics import accuracy_score\n",
    "from sklearn import tree\n",
    "from sklearn.tree import export_text\n",
    "from sklearn.metrics import r2_score\n",
    "from sklearn.preprocessing import StandardScaler\n",
    "from sklearn.tree import DecisionTreeRegressor\n",
    "from sklearn.tree import DecisionTreeClassifier\n",
    "from sklearn.neighbors import KNeighborsClassifier\n",
    "from sklearn.linear_model import LogisticRegression\n",
    "from sklearn.ensemble import BaggingRegressor\n",
    "from sklearn.ensemble import BaggingClassifier\n",
    "from sklearn.ensemble import RandomForestRegressor\n",
    "from sklearn.ensemble import RandomForestClassifier\n",
    "from sklearn.ensemble import GradientBoostingRegressor\n",
    "from sklearn.ensemble import GradientBoostingClassifier\n",
    "from sklearn.model_selection import GridSearchCV\n",
    "import sklearn.metrics\n",
    "from sklearn.metrics import classification_report\n",
    "from sklearn.metrics import precision_recall_curve\n",
    "from sklearn.decomposition import PCA"
   ]
  },
  {
   "cell_type": "markdown",
   "id": "9865561f",
   "metadata": {
    "id": "3e3432e0"
   },
   "source": [
    "NOTE: The project can be done in groups of up to 4 people.\n",
    "\n",
    "1. Find a data set. See the Data Sources Announcement for suggestions.\n",
    "\n",
    "2. Understand the data and identify a question that lends itself to exploration via a machine learning model. \n",
    "\n",
    "3. Build a model to address the question in 2. Be sure to clearly identify the type of problem (regression or classification; supervised or unsupervised), the model/algorithm you used and why, what pre-processing or cleaning you did before building the model, what features you used or didn't use, etc.\n",
    "\n",
    "4. Summarize the modeling results and how they address your question in 2.\n",
    "\n",
    "Deliverables:\n",
    "\n",
    "1. The data set you used in csv format\n",
    "\n",
    "2. A well commented and easy to read jupyter notebook including all the steps above: cleaning, processing, feature engineering, model building.\n",
    "\n",
    "3. A high-level overview of the project and process including:\n",
    "\n",
    "a)  A  description of you data, the variables/features, and the question being addressed.\n",
    "\n",
    "b)  A description of your analysis: what were you trying to do and why, and how did you achieve it.\n",
    "\n",
    "c) A conclusion: What insight(s) into the original question did the model/analysis provide. Are there new questions or future work that the       analysis suggests? Were the results surprising or expected?\n",
    "\n",
    "4. If you are working in a group: A statement confirming that all group members have contributed significantly, and approximately equally, to the submitted work.\n",
    "\n",
    "The deliverables should take one of the following forms:\n",
    "\n",
    "1. Markdown embedded in the jupyter notebook. OR\n",
    "\n",
    "2. Powerpoint slides accompanying the jupyter notebook."
   ]
  },
  {
   "cell_type": "markdown",
   "id": "c798846c",
   "metadata": {
    "id": "dc2933d4"
   },
   "source": [
    "This dataset is taken from https://www.kaggle.com/datasets/rajyellow46/wine-quality."
   ]
  },
  {
   "cell_type": "markdown",
   "id": "bdb84ede",
   "metadata": {
    "id": "iOEtVcAd1mKE"
   },
   "source": [
    "#### Data Set Information:\n",
    "\n",
    "The dataset was downloaded from the UCI Machine Learning Repository.\n",
    "\n",
    "The two datasets are related to red and white variants of the Portuguese \"Vinho Verde\" wine. The reference [Cortez et al., 2009]. Due to privacy and logistic issues, only physicochemical (inputs) and sensory (the output) variables are available (e.g. there is no data about grape types, wine brand, wine selling price, etc.).\n",
    "\n",
    "Two datasets were combined and few values were randomly removed.\n",
    "\n",
    "#### Attribute Information:\n",
    "\n",
    "For more information, read [Cortez et al., 2009].\n",
    "Input variables (based on physicochemical tests):\n",
    "\n",
    "1 - fixed acidity\n",
    "\n",
    "2 - volatile acidity\n",
    "\n",
    "3 - citric acid\n",
    "\n",
    "4 - residual sugar\n",
    "\n",
    "5 - chlorides\n",
    "\n",
    "6 - free sulfur dioxide\n",
    "\n",
    "7 - total sulfur dioxide\n",
    "\n",
    "8 - density\n",
    "\n",
    "9 - pH\n",
    "\n",
    "10 - sulphates\n",
    "\n",
    "11 - alcohol\n",
    "\n",
    "Output variable (based on sensory data):\n",
    "\n",
    "12 - quality (score between 0 and 10)\n",
    "\n",
    "#### Acknowledgements:\n",
    "P. Cortez, A. Cerdeira, F. Almeida, T. Matos and J. Reis.\n",
    "Modeling wine preferences by data mining from physicochemical properties. In Decision Support Systems, Elsevier, 47(4):547-553, 2009."
   ]
  },
  {
   "cell_type": "markdown",
   "id": "19fdfd2f",
   "metadata": {
    "id": "taC11ePqK2AI"
   },
   "source": [
    "### Importing and Cleaning Data"
   ]
  },
  {
   "cell_type": "code",
   "execution_count": 4,
   "id": "a55d6763",
   "metadata": {
    "colab": {
     "base_uri": "https://localhost:8080/",
     "height": 241
    },
    "id": "728a6ca5",
    "outputId": "769be724-13c2-4a02-92a9-ee8cc23f19ea"
   },
   "outputs": [
    {
     "data": {
      "text/html": [
       "<div>\n",
       "<style scoped>\n",
       "    .dataframe tbody tr th:only-of-type {\n",
       "        vertical-align: middle;\n",
       "    }\n",
       "\n",
       "    .dataframe tbody tr th {\n",
       "        vertical-align: top;\n",
       "    }\n",
       "\n",
       "    .dataframe thead th {\n",
       "        text-align: right;\n",
       "    }\n",
       "</style>\n",
       "<table border=\"1\" class=\"dataframe\">\n",
       "  <thead>\n",
       "    <tr style=\"text-align: right;\">\n",
       "      <th></th>\n",
       "      <th>type</th>\n",
       "      <th>fixed acidity</th>\n",
       "      <th>volatile acidity</th>\n",
       "      <th>citric acid</th>\n",
       "      <th>residual sugar</th>\n",
       "      <th>chlorides</th>\n",
       "      <th>free sulfur dioxide</th>\n",
       "      <th>total sulfur dioxide</th>\n",
       "      <th>density</th>\n",
       "      <th>pH</th>\n",
       "      <th>sulphates</th>\n",
       "      <th>alcohol</th>\n",
       "      <th>quality</th>\n",
       "    </tr>\n",
       "  </thead>\n",
       "  <tbody>\n",
       "    <tr>\n",
       "      <th>0</th>\n",
       "      <td>white</td>\n",
       "      <td>7.0</td>\n",
       "      <td>0.27</td>\n",
       "      <td>0.36</td>\n",
       "      <td>20.7</td>\n",
       "      <td>0.045</td>\n",
       "      <td>45.0</td>\n",
       "      <td>170.0</td>\n",
       "      <td>1.0010</td>\n",
       "      <td>3.00</td>\n",
       "      <td>0.45</td>\n",
       "      <td>8.8</td>\n",
       "      <td>6</td>\n",
       "    </tr>\n",
       "    <tr>\n",
       "      <th>1</th>\n",
       "      <td>white</td>\n",
       "      <td>6.3</td>\n",
       "      <td>0.30</td>\n",
       "      <td>0.34</td>\n",
       "      <td>1.6</td>\n",
       "      <td>0.049</td>\n",
       "      <td>14.0</td>\n",
       "      <td>132.0</td>\n",
       "      <td>0.9940</td>\n",
       "      <td>3.30</td>\n",
       "      <td>0.49</td>\n",
       "      <td>9.5</td>\n",
       "      <td>6</td>\n",
       "    </tr>\n",
       "    <tr>\n",
       "      <th>2</th>\n",
       "      <td>white</td>\n",
       "      <td>8.1</td>\n",
       "      <td>0.28</td>\n",
       "      <td>0.40</td>\n",
       "      <td>6.9</td>\n",
       "      <td>0.050</td>\n",
       "      <td>30.0</td>\n",
       "      <td>97.0</td>\n",
       "      <td>0.9951</td>\n",
       "      <td>3.26</td>\n",
       "      <td>0.44</td>\n",
       "      <td>10.1</td>\n",
       "      <td>6</td>\n",
       "    </tr>\n",
       "    <tr>\n",
       "      <th>3</th>\n",
       "      <td>white</td>\n",
       "      <td>7.2</td>\n",
       "      <td>0.23</td>\n",
       "      <td>0.32</td>\n",
       "      <td>8.5</td>\n",
       "      <td>0.058</td>\n",
       "      <td>47.0</td>\n",
       "      <td>186.0</td>\n",
       "      <td>0.9956</td>\n",
       "      <td>3.19</td>\n",
       "      <td>0.40</td>\n",
       "      <td>9.9</td>\n",
       "      <td>6</td>\n",
       "    </tr>\n",
       "    <tr>\n",
       "      <th>4</th>\n",
       "      <td>white</td>\n",
       "      <td>7.2</td>\n",
       "      <td>0.23</td>\n",
       "      <td>0.32</td>\n",
       "      <td>8.5</td>\n",
       "      <td>0.058</td>\n",
       "      <td>47.0</td>\n",
       "      <td>186.0</td>\n",
       "      <td>0.9956</td>\n",
       "      <td>3.19</td>\n",
       "      <td>0.40</td>\n",
       "      <td>9.9</td>\n",
       "      <td>6</td>\n",
       "    </tr>\n",
       "  </tbody>\n",
       "</table>\n",
       "</div>"
      ],
      "text/plain": [
       "    type  fixed acidity  volatile acidity  citric acid  residual sugar  \\\n",
       "0  white            7.0              0.27         0.36            20.7   \n",
       "1  white            6.3              0.30         0.34             1.6   \n",
       "2  white            8.1              0.28         0.40             6.9   \n",
       "3  white            7.2              0.23         0.32             8.5   \n",
       "4  white            7.2              0.23         0.32             8.5   \n",
       "\n",
       "   chlorides  free sulfur dioxide  total sulfur dioxide  density    pH  \\\n",
       "0      0.045                 45.0                 170.0   1.0010  3.00   \n",
       "1      0.049                 14.0                 132.0   0.9940  3.30   \n",
       "2      0.050                 30.0                  97.0   0.9951  3.26   \n",
       "3      0.058                 47.0                 186.0   0.9956  3.19   \n",
       "4      0.058                 47.0                 186.0   0.9956  3.19   \n",
       "\n",
       "   sulphates  alcohol  quality  \n",
       "0       0.45      8.8        6  \n",
       "1       0.49      9.5        6  \n",
       "2       0.44     10.1        6  \n",
       "3       0.40      9.9        6  \n",
       "4       0.40      9.9        6  "
      ]
     },
     "execution_count": 4,
     "metadata": {},
     "output_type": "execute_result"
    }
   ],
   "source": [
    "winequality=pd.read_csv('data/winequalityN.csv')\n",
    "winequality.head()"
   ]
  },
  {
   "cell_type": "markdown",
   "id": "356591e5",
   "metadata": {
    "id": "p5tI8mEQ1ILv"
   },
   "source": [
    "Check data for missing values and clean the table up."
   ]
  },
  {
   "cell_type": "code",
   "execution_count": 5,
   "id": "4b5f743c",
   "metadata": {
    "colab": {
     "base_uri": "https://localhost:8080/"
    },
    "id": "7b13d9e8",
    "outputId": "37707238-d5c6-4c4f-bf04-3584cae23ef4"
   },
   "outputs": [
    {
     "data": {
      "text/plain": [
       "type                     0\n",
       "fixed acidity           10\n",
       "volatile acidity         8\n",
       "citric acid              3\n",
       "residual sugar           2\n",
       "chlorides                2\n",
       "free sulfur dioxide      0\n",
       "total sulfur dioxide     0\n",
       "density                  0\n",
       "pH                       9\n",
       "sulphates                4\n",
       "alcohol                  0\n",
       "quality                  0\n",
       "dtype: int64"
      ]
     },
     "execution_count": 5,
     "metadata": {},
     "output_type": "execute_result"
    }
   ],
   "source": [
    "winequality.isna().sum()"
   ]
  },
  {
   "cell_type": "code",
   "execution_count": 6,
   "id": "231a6f9b",
   "metadata": {
    "id": "76b3b521"
   },
   "outputs": [],
   "source": [
    "winequality=winequality.dropna()"
   ]
  },
  {
   "cell_type": "code",
   "execution_count": 7,
   "id": "6f62fba6",
   "metadata": {
    "colab": {
     "base_uri": "https://localhost:8080/"
    },
    "id": "bdf3114d",
    "outputId": "45accdfd-6fcb-4017-b4ba-45845498085d"
   },
   "outputs": [
    {
     "data": {
      "text/plain": [
       "type                    0\n",
       "fixed acidity           0\n",
       "volatile acidity        0\n",
       "citric acid             0\n",
       "residual sugar          0\n",
       "chlorides               0\n",
       "free sulfur dioxide     0\n",
       "total sulfur dioxide    0\n",
       "density                 0\n",
       "pH                      0\n",
       "sulphates               0\n",
       "alcohol                 0\n",
       "quality                 0\n",
       "dtype: int64"
      ]
     },
     "execution_count": 7,
     "metadata": {},
     "output_type": "execute_result"
    }
   ],
   "source": [
    "winequality.isna().sum()"
   ]
  },
  {
   "cell_type": "code",
   "execution_count": 8,
   "id": "3cdae5de",
   "metadata": {
    "colab": {
     "base_uri": "https://localhost:8080/",
     "height": 300
    },
    "id": "280445a1",
    "outputId": "d61a2291-3d95-4221-8d40-0679c5e8a360"
   },
   "outputs": [
    {
     "data": {
      "text/html": [
       "<div>\n",
       "<style scoped>\n",
       "    .dataframe tbody tr th:only-of-type {\n",
       "        vertical-align: middle;\n",
       "    }\n",
       "\n",
       "    .dataframe tbody tr th {\n",
       "        vertical-align: top;\n",
       "    }\n",
       "\n",
       "    .dataframe thead th {\n",
       "        text-align: right;\n",
       "    }\n",
       "</style>\n",
       "<table border=\"1\" class=\"dataframe\">\n",
       "  <thead>\n",
       "    <tr style=\"text-align: right;\">\n",
       "      <th></th>\n",
       "      <th>fixed acidity</th>\n",
       "      <th>volatile acidity</th>\n",
       "      <th>citric acid</th>\n",
       "      <th>residual sugar</th>\n",
       "      <th>chlorides</th>\n",
       "      <th>free sulfur dioxide</th>\n",
       "      <th>total sulfur dioxide</th>\n",
       "      <th>density</th>\n",
       "      <th>pH</th>\n",
       "      <th>sulphates</th>\n",
       "      <th>alcohol</th>\n",
       "      <th>quality</th>\n",
       "    </tr>\n",
       "  </thead>\n",
       "  <tbody>\n",
       "    <tr>\n",
       "      <th>count</th>\n",
       "      <td>6463.000000</td>\n",
       "      <td>6463.000000</td>\n",
       "      <td>6463.000000</td>\n",
       "      <td>6463.000000</td>\n",
       "      <td>6463.000000</td>\n",
       "      <td>6463.000000</td>\n",
       "      <td>6463.000000</td>\n",
       "      <td>6463.000000</td>\n",
       "      <td>6463.000000</td>\n",
       "      <td>6463.000000</td>\n",
       "      <td>6463.000000</td>\n",
       "      <td>6463.000000</td>\n",
       "    </tr>\n",
       "    <tr>\n",
       "      <th>mean</th>\n",
       "      <td>7.217755</td>\n",
       "      <td>0.339589</td>\n",
       "      <td>0.318758</td>\n",
       "      <td>5.443958</td>\n",
       "      <td>0.056056</td>\n",
       "      <td>30.516865</td>\n",
       "      <td>115.694492</td>\n",
       "      <td>0.994698</td>\n",
       "      <td>3.218332</td>\n",
       "      <td>0.531150</td>\n",
       "      <td>10.492825</td>\n",
       "      <td>5.818505</td>\n",
       "    </tr>\n",
       "    <tr>\n",
       "      <th>std</th>\n",
       "      <td>1.297913</td>\n",
       "      <td>0.164639</td>\n",
       "      <td>0.145252</td>\n",
       "      <td>4.756852</td>\n",
       "      <td>0.035076</td>\n",
       "      <td>17.758815</td>\n",
       "      <td>56.526736</td>\n",
       "      <td>0.003001</td>\n",
       "      <td>0.160650</td>\n",
       "      <td>0.148913</td>\n",
       "      <td>1.193128</td>\n",
       "      <td>0.873286</td>\n",
       "    </tr>\n",
       "    <tr>\n",
       "      <th>min</th>\n",
       "      <td>3.800000</td>\n",
       "      <td>0.080000</td>\n",
       "      <td>0.000000</td>\n",
       "      <td>0.600000</td>\n",
       "      <td>0.009000</td>\n",
       "      <td>1.000000</td>\n",
       "      <td>6.000000</td>\n",
       "      <td>0.987110</td>\n",
       "      <td>2.720000</td>\n",
       "      <td>0.220000</td>\n",
       "      <td>8.000000</td>\n",
       "      <td>3.000000</td>\n",
       "    </tr>\n",
       "    <tr>\n",
       "      <th>25%</th>\n",
       "      <td>6.400000</td>\n",
       "      <td>0.230000</td>\n",
       "      <td>0.250000</td>\n",
       "      <td>1.800000</td>\n",
       "      <td>0.038000</td>\n",
       "      <td>17.000000</td>\n",
       "      <td>77.000000</td>\n",
       "      <td>0.992330</td>\n",
       "      <td>3.110000</td>\n",
       "      <td>0.430000</td>\n",
       "      <td>9.500000</td>\n",
       "      <td>5.000000</td>\n",
       "    </tr>\n",
       "    <tr>\n",
       "      <th>50%</th>\n",
       "      <td>7.000000</td>\n",
       "      <td>0.290000</td>\n",
       "      <td>0.310000</td>\n",
       "      <td>3.000000</td>\n",
       "      <td>0.047000</td>\n",
       "      <td>29.000000</td>\n",
       "      <td>118.000000</td>\n",
       "      <td>0.994890</td>\n",
       "      <td>3.210000</td>\n",
       "      <td>0.510000</td>\n",
       "      <td>10.300000</td>\n",
       "      <td>6.000000</td>\n",
       "    </tr>\n",
       "    <tr>\n",
       "      <th>75%</th>\n",
       "      <td>7.700000</td>\n",
       "      <td>0.400000</td>\n",
       "      <td>0.390000</td>\n",
       "      <td>8.100000</td>\n",
       "      <td>0.065000</td>\n",
       "      <td>41.000000</td>\n",
       "      <td>156.000000</td>\n",
       "      <td>0.997000</td>\n",
       "      <td>3.320000</td>\n",
       "      <td>0.600000</td>\n",
       "      <td>11.300000</td>\n",
       "      <td>6.000000</td>\n",
       "    </tr>\n",
       "    <tr>\n",
       "      <th>max</th>\n",
       "      <td>15.900000</td>\n",
       "      <td>1.580000</td>\n",
       "      <td>1.660000</td>\n",
       "      <td>65.800000</td>\n",
       "      <td>0.611000</td>\n",
       "      <td>289.000000</td>\n",
       "      <td>440.000000</td>\n",
       "      <td>1.038980</td>\n",
       "      <td>4.010000</td>\n",
       "      <td>2.000000</td>\n",
       "      <td>14.900000</td>\n",
       "      <td>9.000000</td>\n",
       "    </tr>\n",
       "  </tbody>\n",
       "</table>\n",
       "</div>"
      ],
      "text/plain": [
       "       fixed acidity  volatile acidity  citric acid  residual sugar  \\\n",
       "count    6463.000000       6463.000000  6463.000000     6463.000000   \n",
       "mean        7.217755          0.339589     0.318758        5.443958   \n",
       "std         1.297913          0.164639     0.145252        4.756852   \n",
       "min         3.800000          0.080000     0.000000        0.600000   \n",
       "25%         6.400000          0.230000     0.250000        1.800000   \n",
       "50%         7.000000          0.290000     0.310000        3.000000   \n",
       "75%         7.700000          0.400000     0.390000        8.100000   \n",
       "max        15.900000          1.580000     1.660000       65.800000   \n",
       "\n",
       "         chlorides  free sulfur dioxide  total sulfur dioxide      density  \\\n",
       "count  6463.000000          6463.000000           6463.000000  6463.000000   \n",
       "mean      0.056056            30.516865            115.694492     0.994698   \n",
       "std       0.035076            17.758815             56.526736     0.003001   \n",
       "min       0.009000             1.000000              6.000000     0.987110   \n",
       "25%       0.038000            17.000000             77.000000     0.992330   \n",
       "50%       0.047000            29.000000            118.000000     0.994890   \n",
       "75%       0.065000            41.000000            156.000000     0.997000   \n",
       "max       0.611000           289.000000            440.000000     1.038980   \n",
       "\n",
       "                pH    sulphates      alcohol      quality  \n",
       "count  6463.000000  6463.000000  6463.000000  6463.000000  \n",
       "mean      3.218332     0.531150    10.492825     5.818505  \n",
       "std       0.160650     0.148913     1.193128     0.873286  \n",
       "min       2.720000     0.220000     8.000000     3.000000  \n",
       "25%       3.110000     0.430000     9.500000     5.000000  \n",
       "50%       3.210000     0.510000    10.300000     6.000000  \n",
       "75%       3.320000     0.600000    11.300000     6.000000  \n",
       "max       4.010000     2.000000    14.900000     9.000000  "
      ]
     },
     "execution_count": 8,
     "metadata": {},
     "output_type": "execute_result"
    }
   ],
   "source": [
    "winequality.describe()"
   ]
  },
  {
   "cell_type": "markdown",
   "id": "9e3dd4fe",
   "metadata": {
    "id": "097c9bcb"
   },
   "source": [
    "Checking the correlation between attributes"
   ]
  },
  {
   "cell_type": "code",
   "execution_count": 9,
   "id": "dbcf2cc9",
   "metadata": {
    "colab": {
     "base_uri": "https://localhost:8080/",
     "height": 243
    },
    "id": "a5ff072d",
    "outputId": "b52cf3d4-7cb5-4033-dd4c-1639ef6f2e12"
   },
   "outputs": [
    {
     "name": "stderr",
     "output_type": "stream",
     "text": [
      "<ipython-input-9-97fccd1f6cd9>:1: FutureWarning: In a future version of pandas all arguments of DataFrame.drop except for the argument 'labels' will be keyword-only\n",
      "  winequality_all=winequality.drop('type',1)\n"
     ]
    },
    {
     "data": {
      "text/html": [
       "<div>\n",
       "<style scoped>\n",
       "    .dataframe tbody tr th:only-of-type {\n",
       "        vertical-align: middle;\n",
       "    }\n",
       "\n",
       "    .dataframe tbody tr th {\n",
       "        vertical-align: top;\n",
       "    }\n",
       "\n",
       "    .dataframe thead th {\n",
       "        text-align: right;\n",
       "    }\n",
       "</style>\n",
       "<table border=\"1\" class=\"dataframe\">\n",
       "  <thead>\n",
       "    <tr style=\"text-align: right;\">\n",
       "      <th></th>\n",
       "      <th>fixed acidity</th>\n",
       "      <th>volatile acidity</th>\n",
       "      <th>citric acid</th>\n",
       "      <th>residual sugar</th>\n",
       "      <th>chlorides</th>\n",
       "      <th>free sulfur dioxide</th>\n",
       "      <th>total sulfur dioxide</th>\n",
       "      <th>density</th>\n",
       "      <th>pH</th>\n",
       "      <th>sulphates</th>\n",
       "      <th>alcohol</th>\n",
       "      <th>quality</th>\n",
       "    </tr>\n",
       "  </thead>\n",
       "  <tbody>\n",
       "    <tr>\n",
       "      <th>0</th>\n",
       "      <td>7.0</td>\n",
       "      <td>0.27</td>\n",
       "      <td>0.36</td>\n",
       "      <td>20.7</td>\n",
       "      <td>0.045</td>\n",
       "      <td>45.0</td>\n",
       "      <td>170.0</td>\n",
       "      <td>1.0010</td>\n",
       "      <td>3.00</td>\n",
       "      <td>0.45</td>\n",
       "      <td>8.8</td>\n",
       "      <td>6</td>\n",
       "    </tr>\n",
       "    <tr>\n",
       "      <th>1</th>\n",
       "      <td>6.3</td>\n",
       "      <td>0.30</td>\n",
       "      <td>0.34</td>\n",
       "      <td>1.6</td>\n",
       "      <td>0.049</td>\n",
       "      <td>14.0</td>\n",
       "      <td>132.0</td>\n",
       "      <td>0.9940</td>\n",
       "      <td>3.30</td>\n",
       "      <td>0.49</td>\n",
       "      <td>9.5</td>\n",
       "      <td>6</td>\n",
       "    </tr>\n",
       "    <tr>\n",
       "      <th>2</th>\n",
       "      <td>8.1</td>\n",
       "      <td>0.28</td>\n",
       "      <td>0.40</td>\n",
       "      <td>6.9</td>\n",
       "      <td>0.050</td>\n",
       "      <td>30.0</td>\n",
       "      <td>97.0</td>\n",
       "      <td>0.9951</td>\n",
       "      <td>3.26</td>\n",
       "      <td>0.44</td>\n",
       "      <td>10.1</td>\n",
       "      <td>6</td>\n",
       "    </tr>\n",
       "    <tr>\n",
       "      <th>3</th>\n",
       "      <td>7.2</td>\n",
       "      <td>0.23</td>\n",
       "      <td>0.32</td>\n",
       "      <td>8.5</td>\n",
       "      <td>0.058</td>\n",
       "      <td>47.0</td>\n",
       "      <td>186.0</td>\n",
       "      <td>0.9956</td>\n",
       "      <td>3.19</td>\n",
       "      <td>0.40</td>\n",
       "      <td>9.9</td>\n",
       "      <td>6</td>\n",
       "    </tr>\n",
       "    <tr>\n",
       "      <th>4</th>\n",
       "      <td>7.2</td>\n",
       "      <td>0.23</td>\n",
       "      <td>0.32</td>\n",
       "      <td>8.5</td>\n",
       "      <td>0.058</td>\n",
       "      <td>47.0</td>\n",
       "      <td>186.0</td>\n",
       "      <td>0.9956</td>\n",
       "      <td>3.19</td>\n",
       "      <td>0.40</td>\n",
       "      <td>9.9</td>\n",
       "      <td>6</td>\n",
       "    </tr>\n",
       "  </tbody>\n",
       "</table>\n",
       "</div>"
      ],
      "text/plain": [
       "   fixed acidity  volatile acidity  citric acid  residual sugar  chlorides  \\\n",
       "0            7.0              0.27         0.36            20.7      0.045   \n",
       "1            6.3              0.30         0.34             1.6      0.049   \n",
       "2            8.1              0.28         0.40             6.9      0.050   \n",
       "3            7.2              0.23         0.32             8.5      0.058   \n",
       "4            7.2              0.23         0.32             8.5      0.058   \n",
       "\n",
       "   free sulfur dioxide  total sulfur dioxide  density    pH  sulphates  \\\n",
       "0                 45.0                 170.0   1.0010  3.00       0.45   \n",
       "1                 14.0                 132.0   0.9940  3.30       0.49   \n",
       "2                 30.0                  97.0   0.9951  3.26       0.44   \n",
       "3                 47.0                 186.0   0.9956  3.19       0.40   \n",
       "4                 47.0                 186.0   0.9956  3.19       0.40   \n",
       "\n",
       "   alcohol  quality  \n",
       "0      8.8        6  \n",
       "1      9.5        6  \n",
       "2     10.1        6  \n",
       "3      9.9        6  \n",
       "4      9.9        6  "
      ]
     },
     "execution_count": 9,
     "metadata": {},
     "output_type": "execute_result"
    }
   ],
   "source": [
    "winequality_all=winequality.drop('type',1)\n",
    "winequality_all.head()"
   ]
  },
  {
   "cell_type": "markdown",
   "id": "05a60c02",
   "metadata": {
    "id": "-TR5BGowLDK_"
   },
   "source": [
    "### Correlation Between Variables"
   ]
  },
  {
   "cell_type": "markdown",
   "id": "b18c9b13",
   "metadata": {
    "id": "74855e9b"
   },
   "source": [
    "Compute the z score of each value in the sample, relative to the sample mean and standard deviation and filter out outliers."
   ]
  },
  {
   "cell_type": "code",
   "execution_count": 10,
   "id": "f2b9fda5",
   "metadata": {
    "id": "20899ef8"
   },
   "outputs": [],
   "source": [
    "z = np.abs(stats.zscore(winequality_all))"
   ]
  },
  {
   "cell_type": "code",
   "execution_count": 11,
   "id": "a609f441",
   "metadata": {
    "colab": {
     "base_uri": "https://localhost:8080/"
    },
    "id": "e96cbaa5",
    "outputId": "10c96685-7694-465d-c512-e6b74ddfe484"
   },
   "outputs": [
    {
     "data": {
      "text/plain": [
       "(5955, 12)"
      ]
     },
     "execution_count": 11,
     "metadata": {},
     "output_type": "execute_result"
    }
   ],
   "source": [
    "winequality_no_outliers = winequality_all[(z < 3).all(axis=1)]\n",
    "winequality_no_outliers.shape"
   ]
  },
  {
   "cell_type": "code",
   "execution_count": 12,
   "id": "489032f6",
   "metadata": {
    "colab": {
     "base_uri": "https://localhost:8080/",
     "height": 697
    },
    "id": "3d43df21",
    "outputId": "89ff212e-cbde-4004-9750-0c4c6cb84fb1"
   },
   "outputs": [
    {
     "data": {
      "text/plain": [
       "<AxesSubplot:>"
      ]
     },
     "execution_count": 12,
     "metadata": {},
     "output_type": "execute_result"
    },
    {
     "data": {
      "image/png": "[encoded data removed]",
      "text/plain": [
       "<Figure size 1080x720 with 2 Axes>"
      ]
     },
     "metadata": {
      "needs_background": "light"
     },
     "output_type": "display_data"
    }
   ],
   "source": [
    "plt.subplots(figsize=(15, 10))\n",
    "sns.heatmap(winequality_no_outliers.corr(), annot = True, cmap = 'coolwarm')"
   ]
  },
  {
   "cell_type": "code",
   "execution_count": 13,
   "id": "8594631a",
   "metadata": {
    "colab": {
     "base_uri": "https://localhost:8080/"
    },
    "id": "3977b96f",
    "outputId": "3bf3f793-2c0b-479c-980a-53d3c2cbcd1d"
   },
   "outputs": [
    {
     "data": {
      "text/plain": [
       "6    2620\n",
       "5    1948\n",
       "7    1022\n",
       "8     183\n",
       "4     182\n",
       "Name: quality, dtype: int64"
      ]
     },
     "execution_count": 13,
     "metadata": {},
     "output_type": "execute_result"
    }
   ],
   "source": [
    "winequality_no_outliers['quality'].value_counts()"
   ]
  },
  {
   "cell_type": "code",
   "execution_count": 14,
   "id": "f489e9d1",
   "metadata": {
    "colab": {
     "base_uri": "https://localhost:8080/"
    },
    "id": "yoQk5U4_2pZ6",
    "outputId": "6fcc249b-d42d-4670-85fc-41afae794cd7"
   },
   "outputs": [
    {
     "data": {
      "text/plain": [
       "6    2820\n",
       "5    2128\n",
       "7    1074\n",
       "4     214\n",
       "8     192\n",
       "3      30\n",
       "9       5\n",
       "Name: quality, dtype: int64"
      ]
     },
     "execution_count": 14,
     "metadata": {},
     "output_type": "execute_result"
    }
   ],
   "source": [
    "winequality_all['quality'].value_counts()"
   ]
  },
  {
   "cell_type": "code",
   "execution_count": 15,
   "id": "12d340ff",
   "metadata": {
    "colab": {
     "base_uri": "https://localhost:8080/"
    },
    "id": "SKu0-DpD2awC",
    "outputId": "299f75d5-0096-4de4-cefc-be4164a494e5"
   },
   "outputs": [
    {
     "data": {
      "text/plain": [
       "white    4870\n",
       "red      1593\n",
       "Name: type, dtype: int64"
      ]
     },
     "execution_count": 15,
     "metadata": {},
     "output_type": "execute_result"
    }
   ],
   "source": [
    "winequality['type'].value_counts()"
   ]
  },
  {
   "cell_type": "markdown",
   "id": "9c575912",
   "metadata": {
    "id": "6aIZ9br0KPEZ"
   },
   "source": [
    "There are a lot more white wines than red ones in the data set."
   ]
  },
  {
   "cell_type": "markdown",
   "id": "11a5724f",
   "metadata": {
    "id": "0c5098a7"
   },
   "source": [
    "# Is it RED or WHITE wine? Which model can predict if wine is red or white? - Leeza Sergeeva\n",
    "### Supervised Classification Problem"
   ]
  },
  {
   "cell_type": "markdown",
   "id": "c702485a",
   "metadata": {
    "id": "xipqEF-NXxNF"
   },
   "source": [
    "### Split data into training and validation sets, and scale data."
   ]
  },
  {
   "cell_type": "markdown",
   "id": "c2c5479d",
   "metadata": {
    "id": "GaOYo6QgJeKv"
   },
   "source": [
    "Split data into testing and training sets, scale testing and training sets. 70% of the data will be used for training of the models and 30% of the data will be used for validation of the models. "
   ]
  },
  {
   "cell_type": "code",
   "execution_count": 16,
   "id": "9ad15a2c",
   "metadata": {
    "id": "-MpGK4_XASTl"
   },
   "outputs": [
    {
     "name": "stderr",
     "output_type": "stream",
     "text": [
      "<ipython-input-16-63659313c2e5>:3: FutureWarning: In a future version of pandas all arguments of DataFrame.drop except for the argument 'labels' will be keyword-only\n",
      "  winequality_red = winequality.drop('type', 1)\n"
     ]
    },
    {
     "data": {
      "text/html": [
       "<div>\n",
       "<style scoped>\n",
       "    .dataframe tbody tr th:only-of-type {\n",
       "        vertical-align: middle;\n",
       "    }\n",
       "\n",
       "    .dataframe tbody tr th {\n",
       "        vertical-align: top;\n",
       "    }\n",
       "\n",
       "    .dataframe thead th {\n",
       "        text-align: right;\n",
       "    }\n",
       "</style>\n",
       "<table border=\"1\" class=\"dataframe\">\n",
       "  <thead>\n",
       "    <tr style=\"text-align: right;\">\n",
       "      <th></th>\n",
       "      <th>fixed acidity</th>\n",
       "      <th>volatile acidity</th>\n",
       "      <th>citric acid</th>\n",
       "      <th>residual sugar</th>\n",
       "      <th>chlorides</th>\n",
       "      <th>free sulfur dioxide</th>\n",
       "      <th>total sulfur dioxide</th>\n",
       "      <th>density</th>\n",
       "      <th>pH</th>\n",
       "      <th>sulphates</th>\n",
       "      <th>alcohol</th>\n",
       "      <th>quality</th>\n",
       "      <th>red_wine</th>\n",
       "    </tr>\n",
       "  </thead>\n",
       "  <tbody>\n",
       "    <tr>\n",
       "      <th>0</th>\n",
       "      <td>7.0</td>\n",
       "      <td>0.27</td>\n",
       "      <td>0.36</td>\n",
       "      <td>20.7</td>\n",
       "      <td>0.045</td>\n",
       "      <td>45.0</td>\n",
       "      <td>170.0</td>\n",
       "      <td>1.0010</td>\n",
       "      <td>3.00</td>\n",
       "      <td>0.45</td>\n",
       "      <td>8.8</td>\n",
       "      <td>6</td>\n",
       "      <td>0</td>\n",
       "    </tr>\n",
       "    <tr>\n",
       "      <th>1</th>\n",
       "      <td>6.3</td>\n",
       "      <td>0.30</td>\n",
       "      <td>0.34</td>\n",
       "      <td>1.6</td>\n",
       "      <td>0.049</td>\n",
       "      <td>14.0</td>\n",
       "      <td>132.0</td>\n",
       "      <td>0.9940</td>\n",
       "      <td>3.30</td>\n",
       "      <td>0.49</td>\n",
       "      <td>9.5</td>\n",
       "      <td>6</td>\n",
       "      <td>0</td>\n",
       "    </tr>\n",
       "    <tr>\n",
       "      <th>2</th>\n",
       "      <td>8.1</td>\n",
       "      <td>0.28</td>\n",
       "      <td>0.40</td>\n",
       "      <td>6.9</td>\n",
       "      <td>0.050</td>\n",
       "      <td>30.0</td>\n",
       "      <td>97.0</td>\n",
       "      <td>0.9951</td>\n",
       "      <td>3.26</td>\n",
       "      <td>0.44</td>\n",
       "      <td>10.1</td>\n",
       "      <td>6</td>\n",
       "      <td>0</td>\n",
       "    </tr>\n",
       "    <tr>\n",
       "      <th>3</th>\n",
       "      <td>7.2</td>\n",
       "      <td>0.23</td>\n",
       "      <td>0.32</td>\n",
       "      <td>8.5</td>\n",
       "      <td>0.058</td>\n",
       "      <td>47.0</td>\n",
       "      <td>186.0</td>\n",
       "      <td>0.9956</td>\n",
       "      <td>3.19</td>\n",
       "      <td>0.40</td>\n",
       "      <td>9.9</td>\n",
       "      <td>6</td>\n",
       "      <td>0</td>\n",
       "    </tr>\n",
       "    <tr>\n",
       "      <th>4</th>\n",
       "      <td>7.2</td>\n",
       "      <td>0.23</td>\n",
       "      <td>0.32</td>\n",
       "      <td>8.5</td>\n",
       "      <td>0.058</td>\n",
       "      <td>47.0</td>\n",
       "      <td>186.0</td>\n",
       "      <td>0.9956</td>\n",
       "      <td>3.19</td>\n",
       "      <td>0.40</td>\n",
       "      <td>9.9</td>\n",
       "      <td>6</td>\n",
       "      <td>0</td>\n",
       "    </tr>\n",
       "  </tbody>\n",
       "</table>\n",
       "</div>"
      ],
      "text/plain": [
       "   fixed acidity  volatile acidity  citric acid  residual sugar  chlorides  \\\n",
       "0            7.0              0.27         0.36            20.7      0.045   \n",
       "1            6.3              0.30         0.34             1.6      0.049   \n",
       "2            8.1              0.28         0.40             6.9      0.050   \n",
       "3            7.2              0.23         0.32             8.5      0.058   \n",
       "4            7.2              0.23         0.32             8.5      0.058   \n",
       "\n",
       "   free sulfur dioxide  total sulfur dioxide  density    pH  sulphates  \\\n",
       "0                 45.0                 170.0   1.0010  3.00       0.45   \n",
       "1                 14.0                 132.0   0.9940  3.30       0.49   \n",
       "2                 30.0                  97.0   0.9951  3.26       0.44   \n",
       "3                 47.0                 186.0   0.9956  3.19       0.40   \n",
       "4                 47.0                 186.0   0.9956  3.19       0.40   \n",
       "\n",
       "   alcohol  quality  red_wine  \n",
       "0      8.8        6         0  \n",
       "1      9.5        6         0  \n",
       "2     10.1        6         0  \n",
       "3      9.9        6         0  \n",
       "4      9.9        6         0  "
      ]
     },
     "execution_count": 16,
     "metadata": {},
     "output_type": "execute_result"
    }
   ],
   "source": [
    "# convert type column into numerical column separating white and red wine. Red = 1. White = 0.\n",
    "winequality['red_wine'] = np.where(winequality['type'] == 'red', 1,0)\n",
    "winequality_red = winequality.drop('type', 1)\n",
    "winequality_red.head()"
   ]
  },
  {
   "cell_type": "code",
   "execution_count": 17,
   "id": "5652653c",
   "metadata": {
    "id": "7a09ebeb"
   },
   "outputs": [
    {
     "name": "stderr",
     "output_type": "stream",
     "text": [
      "<ipython-input-17-58fce93724f6>:1: FutureWarning: In a future version of pandas all arguments of DataFrame.drop except for the argument 'labels' will be keyword-only\n",
      "  X = winequality_red.drop('red_wine', 1)\n"
     ]
    }
   ],
   "source": [
    "X = winequality_red.drop('red_wine', 1)\n",
    "y = winequality_red['red_wine']"
   ]
  },
  {
   "cell_type": "code",
   "execution_count": 18,
   "id": "c46c570a",
   "metadata": {
    "id": "I2cidt8UBkZe"
   },
   "outputs": [],
   "source": [
    "X_train, X_test, y_train, y_test = train_test_split(X,y,test_size=0.3, random_state=5)"
   ]
  },
  {
   "cell_type": "code",
   "execution_count": 19,
   "id": "d37559c6",
   "metadata": {
    "id": "p1HBi7QhBeUa"
   },
   "outputs": [],
   "source": [
    "scaler=StandardScaler()\n",
    "X_train_scaled=scaler.fit_transform(X_train)\n",
    "X_test_scaled=scaler.fit_transform(X_test)"
   ]
  },
  {
   "cell_type": "code",
   "execution_count": 20,
   "id": "53339552",
   "metadata": {
    "id": "HeUkfm8tBquS"
   },
   "outputs": [
    {
     "data": {
      "text/plain": [
       "(True, True)"
      ]
     },
     "execution_count": 20,
     "metadata": {},
     "output_type": "execute_result"
    }
   ],
   "source": [
    "np.allclose(np.mean(X_train_scaled,axis=0),0),np.allclose(np.std(X_train_scaled,axis=0),1)"
   ]
  },
  {
   "cell_type": "markdown",
   "id": "26dbc8fc",
   "metadata": {
    "id": "-2U5wCdQFJTe"
   },
   "source": [
    "### k-nearest neighbors"
   ]
  },
  {
   "cell_type": "markdown",
   "id": "a417cca8",
   "metadata": {
    "id": "TDO9qUXyGjmt"
   },
   "source": [
    "#### Cross Validation to find the bet k value"
   ]
  },
  {
   "cell_type": "code",
   "execution_count": 21,
   "id": "f35f42a6",
   "metadata": {
    "id": "gKyEonm8Bs-2"
   },
   "outputs": [],
   "source": [
    "cvres=[]\n",
    "for i in range(1,20):\n",
    "    clf = KNeighborsClassifier(n_neighbors=i)\n",
    "    nn = cross_validate(clf, X_train_scaled, y_train, cv=5, scoring='accuracy')\n",
    "    cvres.append(nn['test_score'].mean())"
   ]
  },
  {
   "cell_type": "code",
   "execution_count": 22,
   "id": "0dbf591a",
   "metadata": {
    "colab": {
     "base_uri": "https://localhost:8080/",
     "height": 279
    },
    "id": "83KMovcLBvvR",
    "outputId": "09a7f645-e26d-44e1-a751-889cd2fbc2aa"
   },
   "outputs": [
    {
     "data": {
      "image/png": "[encoded data removed]",
      "text/plain": [
       "<Figure size 432x288 with 1 Axes>"
      ]
     },
     "metadata": {
      "needs_background": "light"
     },
     "output_type": "display_data"
    }
   ],
   "source": [
    "plt.plot(list(range(1,20)),cvres[0:19],linewidth=2.5)\n",
    "plt.xlabel('neighbors')\n",
    "plt.ylabel('Acc')\n",
    "plt.show()"
   ]
  },
  {
   "cell_type": "markdown",
   "id": "6874e2b6",
   "metadata": {
    "id": "Fk-a9b-sB-gy"
   },
   "source": [
    "Max k = 8"
   ]
  },
  {
   "cell_type": "code",
   "execution_count": 23,
   "id": "f0ae0ca2",
   "metadata": {
    "id": "YMlAweK_B41o"
   },
   "outputs": [],
   "source": [
    "mod = KNeighborsClassifier(n_neighbors=8)\n",
    "nb8=mod.fit(X_train_scaled,y_train)"
   ]
  },
  {
   "cell_type": "code",
   "execution_count": 24,
   "id": "e611c798",
   "metadata": {
    "colab": {
     "base_uri": "https://localhost:8080/"
    },
    "id": "OPdTDvF6CEBY",
    "outputId": "0c34692c-2c85-42e2-d48b-fa21ffed4046"
   },
   "outputs": [
    {
     "data": {
      "text/plain": [
       "0.994"
      ]
     },
     "execution_count": 24,
     "metadata": {},
     "output_type": "execute_result"
    }
   ],
   "source": [
    "np.round(accuracy_score(nb8.predict(X_test_scaled),y_test),3)"
   ]
  },
  {
   "cell_type": "code",
   "execution_count": 25,
   "id": "ecbd5e27",
   "metadata": {
    "colab": {
     "base_uri": "https://localhost:8080/"
    },
    "id": "I4IsWvTtQRCt",
    "outputId": "5313d548-7d16-403b-db1e-662e6da9f906"
   },
   "outputs": [
    {
     "name": "stdout",
     "output_type": "stream",
     "text": [
      "              precision    recall  f1-score   support\n",
      "\n",
      "           0       0.99      1.00      1.00      1451\n",
      "           1       0.99      0.98      0.99       488\n",
      "\n",
      "    accuracy                           0.99      1939\n",
      "   macro avg       0.99      0.99      0.99      1939\n",
      "weighted avg       0.99      0.99      0.99      1939\n",
      "\n"
     ]
    }
   ],
   "source": [
    "print(classification_report(y_test,nb8.predict(X_test_scaled)))"
   ]
  },
  {
   "cell_type": "markdown",
   "id": "fc22d27f",
   "metadata": {
    "id": "O74LIGX3Gv66"
   },
   "source": [
    "### Bagging"
   ]
  },
  {
   "cell_type": "code",
   "execution_count": 26,
   "id": "b740f8a7",
   "metadata": {
    "id": "rVBTDyXIGxPD"
   },
   "outputs": [],
   "source": [
    "regr = BaggingRegressor(base_estimator=DecisionTreeRegressor(),n_estimators=100,oob_score=True,random_state=5).fit(X_train_scaled, y_train)"
   ]
  },
  {
   "cell_type": "code",
   "execution_count": 27,
   "id": "ab12ea98",
   "metadata": {
    "colab": {
     "base_uri": "https://localhost:8080/"
    },
    "id": "VlEjfoHcGxRm",
    "outputId": "16f35140-022b-4545-d8fa-40dee453e1b4"
   },
   "outputs": [
    {
     "name": "stdout",
     "output_type": "stream",
     "text": [
      "R^2 is 0.9528558755468113 : : MSE is 0.008878900534324096\n"
     ]
    }
   ],
   "source": [
    "print(\"R^2 is {}\".format(regr.score(X_test_scaled,y_test)),\":\",\":\", \"MSE is {}\".format(mean_squared_error(regr.predict(X_test_scaled),y_test)))"
   ]
  },
  {
   "cell_type": "code",
   "execution_count": 28,
   "id": "bfdd73b3",
   "metadata": {
    "colab": {
     "base_uri": "https://localhost:8080/"
    },
    "id": "Pq5F1m-mGxc4",
    "outputId": "67a040a1-dcda-4a93-9c64-ff0eda2f4027"
   },
   "outputs": [
    {
     "data": {
      "text/plain": [
       "0.9531712665622825"
      ]
     },
     "execution_count": 28,
     "metadata": {},
     "output_type": "execute_result"
    }
   ],
   "source": [
    "regr.oob_score_"
   ]
  },
  {
   "cell_type": "code",
   "execution_count": 29,
   "id": "c97f43d9",
   "metadata": {
    "id": "XlyWTm28GxfT"
   },
   "outputs": [],
   "source": [
    "num_trees=np.linspace(50,2000,10, endpoint=False)"
   ]
  },
  {
   "cell_type": "code",
   "execution_count": 30,
   "id": "45fe188f",
   "metadata": {
    "id": "G3ehm9OfGxhj"
   },
   "outputs": [],
   "source": [
    "oob_res=[]\n",
    "for trs in num_trees:\n",
    "    res = BaggingRegressor(base_estimator=DecisionTreeRegressor(),n_estimators=int(trs),oob_score=True,random_state=5).fit(X_train_scaled, y_train)\n",
    "    oob_res.append(res.oob_score_)"
   ]
  },
  {
   "cell_type": "code",
   "execution_count": 31,
   "id": "00e400b2",
   "metadata": {
    "colab": {
     "base_uri": "https://localhost:8080/",
     "height": 283
    },
    "id": "bY5cNvHsHLvt",
    "outputId": "9771b9b6-b3f5-4948-f0be-d525aa3e63c7"
   },
   "outputs": [
    {
     "data": {
      "text/plain": [
       "[<matplotlib.lines.Line2D at 0x7f0205c75190>]"
      ]
     },
     "execution_count": 31,
     "metadata": {},
     "output_type": "execute_result"
    },
    {
     "data": {
      "image/png": "[encoded data removed]",
      "text/plain": [
       "<Figure size 432x288 with 1 Axes>"
      ]
     },
     "metadata": {
      "needs_background": "light"
     },
     "output_type": "display_data"
    }
   ],
   "source": [
    "plt.plot(num_trees,oob_res)"
   ]
  },
  {
   "cell_type": "code",
   "execution_count": 32,
   "id": "b4769a1b",
   "metadata": {
    "colab": {
     "base_uri": "https://localhost:8080/"
    },
    "id": "fSPyLVmYHR9t",
    "outputId": "7432bb6a-f294-4202-bdf6-9292111db49e"
   },
   "outputs": [
    {
     "data": {
      "text/plain": [
       "1025.0"
      ]
     },
     "execution_count": 32,
     "metadata": {},
     "output_type": "execute_result"
    }
   ],
   "source": [
    "num_trees[np.argmax(oob_res)]"
   ]
  },
  {
   "cell_type": "code",
   "execution_count": 33,
   "id": "71656066",
   "metadata": {
    "id": "uX1sKXsQHSAh"
   },
   "outputs": [],
   "source": [
    "opt_trs=int(num_trees[np.argmax(oob_res)])"
   ]
  },
  {
   "cell_type": "code",
   "execution_count": 34,
   "id": "5aef1227",
   "metadata": {
    "id": "IiE47lBQHSDk"
   },
   "outputs": [],
   "source": [
    "regr = BaggingRegressor(base_estimator=DecisionTreeRegressor(),n_estimators=opt_trs,random_state=5).fit(X_train_scaled, y_train)"
   ]
  },
  {
   "cell_type": "code",
   "execution_count": 35,
   "id": "e3b735d2",
   "metadata": {
    "colab": {
     "base_uri": "https://localhost:8080/"
    },
    "id": "A26CbIOzHSGE",
    "outputId": "3e8c26f0-09da-4e26-beb5-9a4cb37a7dd5"
   },
   "outputs": [
    {
     "data": {
      "text/plain": [
       "0.954"
      ]
     },
     "execution_count": 35,
     "metadata": {},
     "output_type": "execute_result"
    }
   ],
   "source": [
    "np.round(regr.score(X_test_scaled,y_test),3)"
   ]
  },
  {
   "cell_type": "markdown",
   "id": "7f706156",
   "metadata": {
    "id": "9ml_j-WYHfHB"
   },
   "source": [
    "### Random Forest Regression"
   ]
  },
  {
   "cell_type": "code",
   "execution_count": 36,
   "id": "491bf043",
   "metadata": {
    "id": "ov0coFFJHYpD"
   },
   "outputs": [],
   "source": [
    "rf = RandomForestRegressor(n_estimators=300,max_features='sqrt',random_state=5).fit(X_train_scaled,y_train)"
   ]
  },
  {
   "cell_type": "code",
   "execution_count": 37,
   "id": "f4a3c5d0",
   "metadata": {
    "colab": {
     "base_uri": "https://localhost:8080/"
    },
    "id": "Edc1xvkzHYsO",
    "outputId": "e48c8a12-cb21-46ab-8156-5216481bc97e"
   },
   "outputs": [
    {
     "data": {
      "text/plain": [
       "0.9647034374270878"
      ]
     },
     "execution_count": 37,
     "metadata": {},
     "output_type": "execute_result"
    }
   ],
   "source": [
    "rf.score(X_test_scaled,y_test)"
   ]
  },
  {
   "cell_type": "code",
   "execution_count": 38,
   "id": "11385f71",
   "metadata": {
    "colab": {
     "base_uri": "https://localhost:8080/",
     "height": 374
    },
    "id": "jiTcB9UrHYvX",
    "outputId": "dd095368-679d-47d3-b711-06fe03c12b85"
   },
   "outputs": [
    {
     "data": {
      "image/png": "[encoded data removed]",
      "text/plain": [
       "<Figure size 576x432 with 1 Axes>"
      ]
     },
     "metadata": {
      "needs_background": "light"
     },
     "output_type": "display_data"
    }
   ],
   "source": [
    "plt.figure(figsize=(8,6))\n",
    "nfeat=X.shape[1]\n",
    "plt.barh(np.arange(nfeat),rf.feature_importances_,align='center')\n",
    "plt.yticks(np.arange(nfeat),list(X.columns))\n",
    "plt.ylim(-1,nfeat)\n",
    "plt.show()"
   ]
  },
  {
   "cell_type": "markdown",
   "id": "f4db9188",
   "metadata": {
    "id": "6-Sji9AeICCQ"
   },
   "source": [
    "### Gradient Boosting Regression"
   ]
  },
  {
   "cell_type": "code",
   "execution_count": 39,
   "id": "980cc474",
   "metadata": {
    "id": "7StjIt1zH518"
   },
   "outputs": [],
   "source": [
    "breg = GradientBoostingRegressor(random_state=5,learning_rate=0.1,n_estimators=500,max_depth=2).fit(X_train_scaled,y_train)"
   ]
  },
  {
   "cell_type": "code",
   "execution_count": 40,
   "id": "57da4174",
   "metadata": {
    "colab": {
     "base_uri": "https://localhost:8080/"
    },
    "id": "dZvw3g_EH54n",
    "outputId": "f11b970d-4fa4-40ec-ec95-45dc6a66413c"
   },
   "outputs": [
    {
     "data": {
      "text/plain": [
       "0.9321698440654015"
      ]
     },
     "execution_count": 40,
     "metadata": {},
     "output_type": "execute_result"
    }
   ],
   "source": [
    "breg.score(X_test_scaled,y_test)"
   ]
  },
  {
   "cell_type": "code",
   "execution_count": 41,
   "id": "f947ced9",
   "metadata": {
    "id": "x0i1uEhzH57e"
   },
   "outputs": [],
   "source": [
    "parameters = {'learning_rate':[0.1,0.01], 'n_estimators':[200,300,400,500,600],'max_depth':[1,2,3,4,5]}"
   ]
  },
  {
   "cell_type": "code",
   "execution_count": 42,
   "id": "37c12ee6",
   "metadata": {
    "id": "gWE5RUeDH5-V"
   },
   "outputs": [],
   "source": [
    "bmod = GradientBoostingRegressor(random_state=5)"
   ]
  },
  {
   "cell_type": "code",
   "execution_count": 43,
   "id": "812ac084",
   "metadata": {
    "colab": {
     "base_uri": "https://localhost:8080/"
    },
    "id": "tk1JvWzjIUyI",
    "outputId": "c6dc6d76-9f49-43a5-9f2b-b5a8b0b97899"
   },
   "outputs": [
    {
     "data": {
      "text/plain": [
       "GridSearchCV(estimator=GradientBoostingRegressor(random_state=5),\n",
       "             param_grid={'learning_rate': [0.1, 0.01],\n",
       "                         'max_depth': [1, 2, 3, 4, 5],\n",
       "                         'n_estimators': [200, 300, 400, 500, 600]})"
      ]
     },
     "execution_count": 43,
     "metadata": {},
     "output_type": "execute_result"
    }
   ],
   "source": [
    "# this step is taking forever to run\n",
    "boost_regr = GridSearchCV(bmod, parameters)\n",
    "boost_regr.fit(X_train_scaled, y_train)"
   ]
  },
  {
   "cell_type": "code",
   "execution_count": 44,
   "id": "f582b89b",
   "metadata": {
    "id": "5rtbUfx5IU12"
   },
   "outputs": [],
   "source": [
    "df=pd.DataFrame.from_dict(boost_regr.cv_results_)"
   ]
  },
  {
   "cell_type": "code",
   "execution_count": 45,
   "id": "bf67f156",
   "metadata": {
    "colab": {
     "base_uri": "https://localhost:8080/"
    },
    "id": "syLvbrfoIU5X",
    "outputId": "f80a760c-7eb3-42a0-d036-08403eb1bc81"
   },
   "outputs": [
    {
     "data": {
      "text/html": [
       "<div>\n",
       "<style scoped>\n",
       "    .dataframe tbody tr th:only-of-type {\n",
       "        vertical-align: middle;\n",
       "    }\n",
       "\n",
       "    .dataframe tbody tr th {\n",
       "        vertical-align: top;\n",
       "    }\n",
       "\n",
       "    .dataframe thead th {\n",
       "        text-align: right;\n",
       "    }\n",
       "</style>\n",
       "<table border=\"1\" class=\"dataframe\">\n",
       "  <thead>\n",
       "    <tr style=\"text-align: right;\">\n",
       "      <th></th>\n",
       "      <th>mean_fit_time</th>\n",
       "      <th>std_fit_time</th>\n",
       "      <th>mean_score_time</th>\n",
       "      <th>std_score_time</th>\n",
       "      <th>param_learning_rate</th>\n",
       "      <th>param_max_depth</th>\n",
       "      <th>param_n_estimators</th>\n",
       "      <th>params</th>\n",
       "      <th>split0_test_score</th>\n",
       "      <th>split1_test_score</th>\n",
       "      <th>split2_test_score</th>\n",
       "      <th>split3_test_score</th>\n",
       "      <th>split4_test_score</th>\n",
       "      <th>mean_test_score</th>\n",
       "      <th>std_test_score</th>\n",
       "      <th>rank_test_score</th>\n",
       "    </tr>\n",
       "  </thead>\n",
       "  <tbody>\n",
       "    <tr>\n",
       "      <th>0</th>\n",
       "      <td>0.360238</td>\n",
       "      <td>0.012607</td>\n",
       "      <td>0.001574</td>\n",
       "      <td>0.000180</td>\n",
       "      <td>0.1</td>\n",
       "      <td>1</td>\n",
       "      <td>200</td>\n",
       "      <td>{'learning_rate': 0.1, 'max_depth': 1, 'n_esti...</td>\n",
       "      <td>0.869815</td>\n",
       "      <td>0.884887</td>\n",
       "      <td>0.849392</td>\n",
       "      <td>0.876985</td>\n",
       "      <td>0.860088</td>\n",
       "      <td>0.868234</td>\n",
       "      <td>0.012472</td>\n",
       "      <td>45</td>\n",
       "    </tr>\n",
       "    <tr>\n",
       "      <th>1</th>\n",
       "      <td>0.534330</td>\n",
       "      <td>0.009000</td>\n",
       "      <td>0.002022</td>\n",
       "      <td>0.000365</td>\n",
       "      <td>0.1</td>\n",
       "      <td>1</td>\n",
       "      <td>300</td>\n",
       "      <td>{'learning_rate': 0.1, 'max_depth': 1, 'n_esti...</td>\n",
       "      <td>0.876732</td>\n",
       "      <td>0.889033</td>\n",
       "      <td>0.856966</td>\n",
       "      <td>0.882458</td>\n",
       "      <td>0.866581</td>\n",
       "      <td>0.874354</td>\n",
       "      <td>0.011398</td>\n",
       "      <td>43</td>\n",
       "    </tr>\n",
       "    <tr>\n",
       "      <th>2</th>\n",
       "      <td>0.704991</td>\n",
       "      <td>0.018445</td>\n",
       "      <td>0.002232</td>\n",
       "      <td>0.000280</td>\n",
       "      <td>0.1</td>\n",
       "      <td>1</td>\n",
       "      <td>400</td>\n",
       "      <td>{'learning_rate': 0.1, 'max_depth': 1, 'n_esti...</td>\n",
       "      <td>0.881440</td>\n",
       "      <td>0.892113</td>\n",
       "      <td>0.862259</td>\n",
       "      <td>0.886398</td>\n",
       "      <td>0.871135</td>\n",
       "      <td>0.878669</td>\n",
       "      <td>0.010716</td>\n",
       "      <td>42</td>\n",
       "    </tr>\n",
       "    <tr>\n",
       "      <th>3</th>\n",
       "      <td>0.867692</td>\n",
       "      <td>0.014522</td>\n",
       "      <td>0.002669</td>\n",
       "      <td>0.000211</td>\n",
       "      <td>0.1</td>\n",
       "      <td>1</td>\n",
       "      <td>500</td>\n",
       "      <td>{'learning_rate': 0.1, 'max_depth': 1, 'n_esti...</td>\n",
       "      <td>0.884861</td>\n",
       "      <td>0.895016</td>\n",
       "      <td>0.866080</td>\n",
       "      <td>0.888815</td>\n",
       "      <td>0.874519</td>\n",
       "      <td>0.881858</td>\n",
       "      <td>0.010328</td>\n",
       "      <td>41</td>\n",
       "    </tr>\n",
       "    <tr>\n",
       "      <th>4</th>\n",
       "      <td>0.996886</td>\n",
       "      <td>0.006089</td>\n",
       "      <td>0.003119</td>\n",
       "      <td>0.000396</td>\n",
       "      <td>0.1</td>\n",
       "      <td>1</td>\n",
       "      <td>600</td>\n",
       "      <td>{'learning_rate': 0.1, 'max_depth': 1, 'n_esti...</td>\n",
       "      <td>0.887584</td>\n",
       "      <td>0.896969</td>\n",
       "      <td>0.868983</td>\n",
       "      <td>0.890929</td>\n",
       "      <td>0.876838</td>\n",
       "      <td>0.884261</td>\n",
       "      <td>0.010055</td>\n",
       "      <td>40</td>\n",
       "    </tr>\n",
       "  </tbody>\n",
       "</table>\n",
       "</div>"
      ],
      "text/plain": [
       "   mean_fit_time  std_fit_time  mean_score_time  std_score_time  \\\n",
       "0       0.360238      0.012607         0.001574        0.000180   \n",
       "1       0.534330      0.009000         0.002022        0.000365   \n",
       "2       0.704991      0.018445         0.002232        0.000280   \n",
       "3       0.867692      0.014522         0.002669        0.000211   \n",
       "4       0.996886      0.006089         0.003119        0.000396   \n",
       "\n",
       "  param_learning_rate param_max_depth param_n_estimators  \\\n",
       "0                 0.1               1                200   \n",
       "1                 0.1               1                300   \n",
       "2                 0.1               1                400   \n",
       "3                 0.1               1                500   \n",
       "4                 0.1               1                600   \n",
       "\n",
       "                                              params  split0_test_score  \\\n",
       "0  {'learning_rate': 0.1, 'max_depth': 1, 'n_esti...           0.869815   \n",
       "1  {'learning_rate': 0.1, 'max_depth': 1, 'n_esti...           0.876732   \n",
       "2  {'learning_rate': 0.1, 'max_depth': 1, 'n_esti...           0.881440   \n",
       "3  {'learning_rate': 0.1, 'max_depth': 1, 'n_esti...           0.884861   \n",
       "4  {'learning_rate': 0.1, 'max_depth': 1, 'n_esti...           0.887584   \n",
       "\n",
       "   split1_test_score  split2_test_score  split3_test_score  split4_test_score  \\\n",
       "0           0.884887           0.849392           0.876985           0.860088   \n",
       "1           0.889033           0.856966           0.882458           0.866581   \n",
       "2           0.892113           0.862259           0.886398           0.871135   \n",
       "3           0.895016           0.866080           0.888815           0.874519   \n",
       "4           0.896969           0.868983           0.890929           0.876838   \n",
       "\n",
       "   mean_test_score  std_test_score  rank_test_score  \n",
       "0         0.868234        0.012472               45  \n",
       "1         0.874354        0.011398               43  \n",
       "2         0.878669        0.010716               42  \n",
       "3         0.881858        0.010328               41  \n",
       "4         0.884261        0.010055               40  "
      ]
     },
     "execution_count": 45,
     "metadata": {},
     "output_type": "execute_result"
    }
   ],
   "source": [
    "df.head()"
   ]
  },
  {
   "cell_type": "code",
   "execution_count": 46,
   "id": "8ca591f8",
   "metadata": {
    "colab": {
     "base_uri": "https://localhost:8080/"
    },
    "id": "0EGcv9ReIU87",
    "outputId": "f126a7fc-f3b2-45fb-cd2e-3846c92187d1"
   },
   "outputs": [
    {
     "data": {
      "text/html": [
       "<div>\n",
       "<style scoped>\n",
       "    .dataframe tbody tr th:only-of-type {\n",
       "        vertical-align: middle;\n",
       "    }\n",
       "\n",
       "    .dataframe tbody tr th {\n",
       "        vertical-align: top;\n",
       "    }\n",
       "\n",
       "    .dataframe thead th {\n",
       "        text-align: right;\n",
       "    }\n",
       "</style>\n",
       "<table border=\"1\" class=\"dataframe\">\n",
       "  <thead>\n",
       "    <tr style=\"text-align: right;\">\n",
       "      <th></th>\n",
       "      <th>mean_fit_time</th>\n",
       "      <th>std_fit_time</th>\n",
       "      <th>mean_score_time</th>\n",
       "      <th>std_score_time</th>\n",
       "      <th>param_learning_rate</th>\n",
       "      <th>param_max_depth</th>\n",
       "      <th>param_n_estimators</th>\n",
       "      <th>params</th>\n",
       "      <th>split0_test_score</th>\n",
       "      <th>split1_test_score</th>\n",
       "      <th>split2_test_score</th>\n",
       "      <th>split3_test_score</th>\n",
       "      <th>split4_test_score</th>\n",
       "      <th>mean_test_score</th>\n",
       "      <th>std_test_score</th>\n",
       "      <th>rank_test_score</th>\n",
       "    </tr>\n",
       "  </thead>\n",
       "  <tbody>\n",
       "    <tr>\n",
       "      <th>15</th>\n",
       "      <td>1.203557</td>\n",
       "      <td>0.006961</td>\n",
       "      <td>0.002762</td>\n",
       "      <td>0.000367</td>\n",
       "      <td>0.1</td>\n",
       "      <td>4</td>\n",
       "      <td>200</td>\n",
       "      <td>{'learning_rate': 0.1, 'max_depth': 4, 'n_esti...</td>\n",
       "      <td>0.962969</td>\n",
       "      <td>0.955294</td>\n",
       "      <td>0.926003</td>\n",
       "      <td>0.95774</td>\n",
       "      <td>0.953467</td>\n",
       "      <td>0.951095</td>\n",
       "      <td>0.012946</td>\n",
       "      <td>1</td>\n",
       "    </tr>\n",
       "  </tbody>\n",
       "</table>\n",
       "</div>"
      ],
      "text/plain": [
       "    mean_fit_time  std_fit_time  mean_score_time  std_score_time  \\\n",
       "15       1.203557      0.006961         0.002762        0.000367   \n",
       "\n",
       "   param_learning_rate param_max_depth param_n_estimators  \\\n",
       "15                 0.1               4                200   \n",
       "\n",
       "                                               params  split0_test_score  \\\n",
       "15  {'learning_rate': 0.1, 'max_depth': 4, 'n_esti...           0.962969   \n",
       "\n",
       "    split1_test_score  split2_test_score  split3_test_score  \\\n",
       "15           0.955294           0.926003            0.95774   \n",
       "\n",
       "    split4_test_score  mean_test_score  std_test_score  rank_test_score  \n",
       "15           0.953467         0.951095        0.012946                1  "
      ]
     },
     "execution_count": 46,
     "metadata": {},
     "output_type": "execute_result"
    }
   ],
   "source": [
    "df[df['mean_test_score']==df['mean_test_score'].max()]"
   ]
  },
  {
   "cell_type": "code",
   "execution_count": 47,
   "id": "52dc168a",
   "metadata": {
    "id": "EwutrsG4Icmo"
   },
   "outputs": [],
   "source": [
    "best_breg = GradientBoostingRegressor(random_state=5,learning_rate=0.1,n_estimators=200,max_depth=4).fit(X_train_scaled,y_train)"
   ]
  },
  {
   "cell_type": "code",
   "execution_count": 48,
   "id": "e06ef2ad",
   "metadata": {
    "colab": {
     "base_uri": "https://localhost:8080/"
    },
    "id": "CifDQ8VOIcpy",
    "outputId": "84520142-ba86-4e1b-ade8-5378b375a139"
   },
   "outputs": [
    {
     "data": {
      "text/plain": [
       "0.946"
      ]
     },
     "execution_count": 48,
     "metadata": {},
     "output_type": "execute_result"
    }
   ],
   "source": [
    "np.round(best_breg.score(X_test_scaled,y_test),3)"
   ]
  },
  {
   "cell_type": "markdown",
   "id": "bf2c0603",
   "metadata": {
    "id": "BdtivSIhLgPZ"
   },
   "source": [
    "### Logistic Regression"
   ]
  },
  {
   "cell_type": "code",
   "execution_count": 49,
   "id": "9a032cf6",
   "metadata": {
    "id": "qF46yEfjIctl"
   },
   "outputs": [],
   "source": [
    "lm = LogisticRegression(random_state=5).fit(X_train_scaled, y_train)"
   ]
  },
  {
   "cell_type": "code",
   "execution_count": 50,
   "id": "8b6c93de",
   "metadata": {
    "colab": {
     "base_uri": "https://localhost:8080/"
    },
    "id": "BQvKc70lRHEJ",
    "outputId": "9513e727-6ed8-42e1-9f28-9172190427a1"
   },
   "outputs": [
    {
     "name": "stdout",
     "output_type": "stream",
     "text": [
      "              precision    recall  f1-score   support\n",
      "\n",
      "           0       0.99      1.00      1.00      1451\n",
      "           1       0.99      0.98      0.99       488\n",
      "\n",
      "    accuracy                           0.99      1939\n",
      "   macro avg       0.99      0.99      0.99      1939\n",
      "weighted avg       0.99      0.99      0.99      1939\n",
      "\n"
     ]
    }
   ],
   "source": [
    "print(classification_report(y_test,lm.predict(X_test_scaled)))"
   ]
  },
  {
   "cell_type": "code",
   "execution_count": 51,
   "id": "33dfbc04",
   "metadata": {
    "colab": {
     "base_uri": "https://localhost:8080/"
    },
    "id": "_PWhkPD_V0al",
    "outputId": "8bcc1f21-502d-48e1-c742-5a3dddd1c527"
   },
   "outputs": [
    {
     "name": "stdout",
     "output_type": "stream",
     "text": [
      "R^2: 0.993\n",
      "Precision: 0.990\n",
      "Recall: 0.982\n",
      "Accuracy: 0.993\n"
     ]
    }
   ],
   "source": [
    "print('R^2: %.3f' % lm.score(X_test_scaled,y_test))\n",
    "print('Precision: %.3f' % sklearn.metrics.precision_score(y_test, lm.predict(X_test_scaled)))\n",
    "print('Recall: %.3f' % sklearn.metrics.recall_score(y_test, lm.predict(X_test_scaled)))\n",
    "print('Accuracy: %.3f' % sklearn.metrics.accuracy_score(y_test, lm.predict(X_test_scaled)))"
   ]
  },
  {
   "cell_type": "code",
   "execution_count": 52,
   "id": "93caef23",
   "metadata": {
    "id": "DO4fIYrRWFV3"
   },
   "outputs": [],
   "source": [
    "precision, recall, thresholds = precision_recall_curve(y_test,lm.predict_proba(X_test_scaled)[:,1])"
   ]
  },
  {
   "cell_type": "code",
   "execution_count": 53,
   "id": "705ecf7d",
   "metadata": {
    "colab": {
     "base_uri": "https://localhost:8080/"
    },
    "id": "SBQ4saICWGCR",
    "outputId": "66e68939-ca73-471c-fdce-6bd934429bcf"
   },
   "outputs": [
    {
     "data": {
      "text/plain": [
       "0.9999999908492677"
      ]
     },
     "execution_count": 53,
     "metadata": {},
     "output_type": "execute_result"
    }
   ],
   "source": [
    "max(thresholds)"
   ]
  },
  {
   "cell_type": "code",
   "execution_count": 54,
   "id": "0b1f2c7b",
   "metadata": {
    "id": "1X1itjJCWNFT"
   },
   "outputs": [],
   "source": [
    "pt=np.argmin(np.abs(thresholds-0.5))"
   ]
  },
  {
   "cell_type": "code",
   "execution_count": 55,
   "id": "3d384a6a",
   "metadata": {
    "colab": {
     "base_uri": "https://localhost:8080/"
    },
    "id": "DfrQQulvWNJ8",
    "outputId": "5c5708f6-2895-4dab-e8ee-f56f4d48fee7"
   },
   "outputs": [
    {
     "data": {
      "image/png": "[encoded data removed]",
      "text/plain": [
       "<Figure size 576x432 with 1 Axes>"
      ]
     },
     "metadata": {
      "needs_background": "light"
     },
     "output_type": "display_data"
    }
   ],
   "source": [
    "plt.figure(figsize=(8,6))\n",
    "plt.plot(precision,recall,label='rf')\n",
    "plt.plot(precision[pt],recall[pt],'^',c='k',markersize=10)\n",
    "plt.xlabel('Precision')\n",
    "plt.ylabel('Recall')\n",
    "plt.show()"
   ]
  },
  {
   "cell_type": "markdown",
   "id": "60cbe620",
   "metadata": {
    "id": "dk5OIp-wH23F"
   },
   "source": [
    "### Random Forest Classifier"
   ]
  },
  {
   "cell_type": "code",
   "execution_count": 56,
   "id": "24ccd76c",
   "metadata": {
    "id": "V9p_S9uVHpPl"
   },
   "outputs": [],
   "source": [
    "rfc = RandomForestClassifier(n_estimators=400,max_features='sqrt',random_state=5).fit(X_train_scaled,y_train)"
   ]
  },
  {
   "cell_type": "code",
   "execution_count": 57,
   "id": "d79646cd",
   "metadata": {
    "colab": {
     "base_uri": "https://localhost:8080/"
    },
    "id": "tziAvSaMH5tF",
    "outputId": "da625ba9-a1cb-4669-c56f-06fc47448e6c"
   },
   "outputs": [
    {
     "data": {
      "text/plain": [
       "0.9927797833935018"
      ]
     },
     "execution_count": 57,
     "metadata": {},
     "output_type": "execute_result"
    }
   ],
   "source": [
    "accuracy_score(rfc.predict(X_test_scaled),y_test)"
   ]
  },
  {
   "cell_type": "code",
   "execution_count": 58,
   "id": "4e90487f",
   "metadata": {
    "colab": {
     "base_uri": "https://localhost:8080/"
    },
    "id": "p8nM2SH8H5xa",
    "outputId": "23e0d308-65d4-45ae-a797-e8c73a64d88d"
   },
   "outputs": [
    {
     "data": {
      "image/png": "[encoded data removed]",
      "text/plain": [
       "<Figure size 576x432 with 1 Axes>"
      ]
     },
     "metadata": {
      "needs_background": "light"
     },
     "output_type": "display_data"
    }
   ],
   "source": [
    "plt.figure(figsize=(8,6))\n",
    "nfeat=X.shape[1]\n",
    "plt.barh(np.arange(nfeat),rfc.feature_importances_,align='center')\n",
    "plt.yticks(np.arange(nfeat),list(X.columns))\n",
    "plt.ylim(-1,nfeat)\n",
    "plt.show()"
   ]
  },
  {
   "cell_type": "markdown",
   "id": "56734f05",
   "metadata": {
    "id": "7hIs9yr2MRom"
   },
   "source": [
    "We can see that there are three major variables (total sulfur dioxide, chlorides and volatile acidity) that contribute to random forest regresion model."
   ]
  },
  {
   "cell_type": "code",
   "execution_count": 59,
   "id": "be9c06b0",
   "metadata": {
    "colab": {
     "base_uri": "https://localhost:8080/"
    },
    "id": "IZvozNBEQ7WF",
    "outputId": "7239437f-80f3-4123-d416-b63656ff7cb8"
   },
   "outputs": [
    {
     "name": "stdout",
     "output_type": "stream",
     "text": [
      "              precision    recall  f1-score   support\n",
      "\n",
      "           0       0.99      1.00      1.00      1451\n",
      "           1       1.00      0.98      0.99       488\n",
      "\n",
      "    accuracy                           0.99      1939\n",
      "   macro avg       0.99      0.99      0.99      1939\n",
      "weighted avg       0.99      0.99      0.99      1939\n",
      "\n"
     ]
    }
   ],
   "source": [
    "print(classification_report(y_test,rfc.predict(X_test_scaled)))"
   ]
  },
  {
   "cell_type": "code",
   "execution_count": 60,
   "id": "2f200c14",
   "metadata": {
    "colab": {
     "base_uri": "https://localhost:8080/"
    },
    "id": "w-Zt_ZfiRrlA",
    "outputId": "d07f7113-273d-4dba-af82-61127ed8054e"
   },
   "outputs": [
    {
     "name": "stdout",
     "output_type": "stream",
     "text": [
      "R^2: 0.993\n",
      "Precision: 0.996\n",
      "Recall: 0.975\n",
      "Accuracy: 0.993\n"
     ]
    }
   ],
   "source": [
    "print('R^2: %.3f' % rfc.score(X_test_scaled,y_test))\n",
    "print('Precision: %.3f' % sklearn.metrics.precision_score(y_test, rfc.predict(X_test_scaled)))\n",
    "print('Recall: %.3f' % sklearn.metrics.recall_score(y_test, rfc.predict(X_test_scaled)))\n",
    "print('Accuracy: %.3f' % sklearn.metrics.accuracy_score(y_test, rfc.predict(X_test_scaled)))"
   ]
  },
  {
   "cell_type": "code",
   "execution_count": 61,
   "id": "ebba6409",
   "metadata": {
    "id": "hY3avgdJSk-6"
   },
   "outputs": [],
   "source": [
    "precision, recall, thresholds = precision_recall_curve(y_test,rfc.predict_proba(X_test_scaled)[:,1])"
   ]
  },
  {
   "cell_type": "code",
   "execution_count": 62,
   "id": "b21c92b6",
   "metadata": {
    "colab": {
     "base_uri": "https://localhost:8080/"
    },
    "id": "5bEoN6BNS-sP",
    "outputId": "4527e6cd-0a04-4014-da8b-9b6173707e5c"
   },
   "outputs": [
    {
     "data": {
      "text/plain": [
       "1.0"
      ]
     },
     "execution_count": 62,
     "metadata": {},
     "output_type": "execute_result"
    }
   ],
   "source": [
    "max(thresholds)"
   ]
  },
  {
   "cell_type": "code",
   "execution_count": 63,
   "id": "0dbfe0e1",
   "metadata": {
    "id": "FHHjzPETS-7A"
   },
   "outputs": [],
   "source": [
    "pt=np.argmin(np.abs(thresholds-0.5))"
   ]
  },
  {
   "cell_type": "code",
   "execution_count": 64,
   "id": "3d9c4cba",
   "metadata": {
    "colab": {
     "base_uri": "https://localhost:8080/"
    },
    "id": "p-EiJxLETODm",
    "outputId": "6a05e11c-8e3d-4045-e96a-cb44e776b3f0"
   },
   "outputs": [
    {
     "data": {
      "image/png": "[encoded data removed]",
      "text/plain": [
       "<Figure size 576x432 with 1 Axes>"
      ]
     },
     "metadata": {
      "needs_background": "light"
     },
     "output_type": "display_data"
    }
   ],
   "source": [
    "plt.figure(figsize=(8,6))\n",
    "plt.plot(precision,recall,label='rfc')\n",
    "plt.plot(precision[pt],recall[pt],'^',c='k',markersize=10)\n",
    "plt.xlabel('Precision')\n",
    "plt.ylabel('Recall')\n",
    "plt.show()"
   ]
  },
  {
   "cell_type": "markdown",
   "id": "78221ec1",
   "metadata": {
    "id": "mKYwxITgSpOt"
   },
   "source": [
    "### Gradient Boosting Classifier"
   ]
  },
  {
   "cell_type": "code",
   "execution_count": 65,
   "id": "7301566e",
   "metadata": {
    "id": "xLBVRaFcU2uY"
   },
   "outputs": [],
   "source": [
    "gbc = GradientBoostingClassifier(random_state=5,learning_rate=0.1,n_estimators=200,max_depth=4).fit(X_train_scaled,y_train)"
   ]
  },
  {
   "cell_type": "code",
   "execution_count": 66,
   "id": "82fcd444",
   "metadata": {
    "colab": {
     "base_uri": "https://localhost:8080/"
    },
    "id": "FKpUA0AxU6yX",
    "outputId": "33132cca-aa9d-474b-e642-b6698f3d044a"
   },
   "outputs": [
    {
     "name": "stdout",
     "output_type": "stream",
     "text": [
      "Precision: 0.985\n",
      "Recall: 0.969\n",
      "Accuracy: 0.989\n"
     ]
    }
   ],
   "source": [
    "print('Precision: %.3f' % sklearn.metrics.precision_score(y_test, gbc.predict(X_test_scaled)))\n",
    "print('Recall: %.3f' % sklearn.metrics.recall_score(y_test, gbc.predict(X_test_scaled)))\n",
    "print('Accuracy: %.3f' % sklearn.metrics.accuracy_score(y_test, gbc.predict(X_test_scaled)))"
   ]
  },
  {
   "cell_type": "code",
   "execution_count": 67,
   "id": "a678d609",
   "metadata": {
    "id": "BQ1IfPFDU63S"
   },
   "outputs": [],
   "source": [
    "precision, recall, thresholds = precision_recall_curve(y_test,gbc.predict_proba(X_test_scaled)[:,1])"
   ]
  },
  {
   "cell_type": "code",
   "execution_count": 68,
   "id": "29204f9e",
   "metadata": {
    "colab": {
     "base_uri": "https://localhost:8080/"
    },
    "id": "Rnlsk_7tVgSr",
    "outputId": "b5cc5eb7-b117-4d57-b1f9-3844ec77366a"
   },
   "outputs": [
    {
     "data": {
      "text/plain": [
       "0.9999995474207156"
      ]
     },
     "execution_count": 68,
     "metadata": {},
     "output_type": "execute_result"
    }
   ],
   "source": [
    "max(thresholds)"
   ]
  },
  {
   "cell_type": "code",
   "execution_count": 69,
   "id": "23eaf667",
   "metadata": {
    "id": "k3rCeelxVgXK"
   },
   "outputs": [],
   "source": [
    "pt=np.argmin(np.abs(thresholds-0.5))"
   ]
  },
  {
   "cell_type": "code",
   "execution_count": 70,
   "id": "43abad02",
   "metadata": {
    "colab": {
     "base_uri": "https://localhost:8080/"
    },
    "id": "P4IFQJTcVgcL",
    "outputId": "9807af12-12da-444f-b203-abb300872277"
   },
   "outputs": [
    {
     "data": {
      "image/png": "[encoded data removed]",
      "text/plain": [
       "<Figure size 576x432 with 1 Axes>"
      ]
     },
     "metadata": {
      "needs_background": "light"
     },
     "output_type": "display_data"
    }
   ],
   "source": [
    "plt.figure(figsize=(8,6))\n",
    "plt.plot(precision,recall,label='rf')\n",
    "plt.plot(precision[pt],recall[pt],'^',c='k',markersize=10)\n",
    "plt.xlabel('Precision')\n",
    "plt.ylabel('Recall')\n",
    "plt.show()"
   ]
  },
  {
   "cell_type": "markdown",
   "id": "a8c4e150",
   "metadata": {},
   "source": [
    "### Best Classifier = Logistic Regression and Random Forest Classifier\n",
    "Logistic Regression and Random Forest Classifier both outperformed the Gradient Boosting Classifier in predicting red wine. \n",
    "\n",
    "Logistic Regression Stats are:\n",
    "\n",
    "> R^2: 0.993; Precision: 0.990; Recall: 0.982; Accuracy: 0.993\n",
    "\n",
    "Random Forest Classifier Stats are:\n",
    "\n",
    "> R^2: 0.993; Precision: 0.996; Recall: 0.975; Accuracy: 0.993\n",
    "\n",
    "We can see that both models had same R^2 values and Accuacy. However Logistic Regression had better recall, while Random Forest Classifier had slightly better Precision."
   ]
  },
  {
   "cell_type": "markdown",
   "id": "dfc78255",
   "metadata": {
    "id": "Cj19qFuAYqgA"
   },
   "source": [
    "### Principal Component Analysis"
   ]
  },
  {
   "cell_type": "markdown",
   "id": "9993a7ae",
   "metadata": {},
   "source": [
    "Before Scaling data for PCA"
   ]
  },
  {
   "cell_type": "code",
   "execution_count": 71,
   "id": "1fa368af",
   "metadata": {
    "colab": {
     "base_uri": "https://localhost:8080/",
     "height": 341
    },
    "id": "WWzk4Y2mZXeU",
    "outputId": "a66f802a-5fc3-4707-b077-addaf8364420"
   },
   "outputs": [],
   "source": [
    "pca_w = PCA(2).fit_transform(winequality_red)"
   ]
  },
  {
   "cell_type": "code",
   "execution_count": 72,
   "id": "831b991e",
   "metadata": {
    "id": "SX4p_vDnZwcc"
   },
   "outputs": [
    {
     "data": {
      "image/png": "[encoded data removed]",
      "text/plain": [
       "<Figure size 576x432 with 1 Axes>"
      ]
     },
     "metadata": {
      "needs_background": "light"
     },
     "output_type": "display_data"
    }
   ],
   "source": [
    "fig,ax=plt.subplots(figsize=(8,6))\n",
    "plt.scatter(pca_w[:, 0], pca_w[:, 1],\n",
    "            c=winequality_red.red_wine, edgecolor='none',alpha=0.8)\n",
    "plt.xlabel('component 1')\n",
    "plt.ylabel('component 2')\n",
    "plt.axhline(y=0, color='r', linestyle='-')\n",
    "plt.axvline(x=0, color='r', linestyle='-')\n",
    "plt.title(\"First two principal components before scaling\")\n",
    "plt.show()"
   ]
  },
  {
   "cell_type": "markdown",
   "id": "9c5b9ac7",
   "metadata": {
    "id": "HlVs4j19ZVl4"
   },
   "source": [
    "After Scaling data for PCA"
   ]
  },
  {
   "cell_type": "code",
   "execution_count": 73,
   "id": "8591e5cd",
   "metadata": {
    "id": "AOi973B_YpNl"
   },
   "outputs": [],
   "source": [
    "pca_scaled = StandardScaler().fit_transform(winequality_red)"
   ]
  },
  {
   "cell_type": "code",
   "execution_count": 74,
   "id": "2e19bb3a",
   "metadata": {
    "id": "mAutllqraBVF"
   },
   "outputs": [],
   "source": [
    "pca = PCA(2).fit_transform(pca_scaled)"
   ]
  },
  {
   "cell_type": "code",
   "execution_count": 75,
   "id": "b44a1cbe",
   "metadata": {
    "id": "yYNGIvM6aBem"
   },
   "outputs": [
    {
     "data": {
      "image/png": "[encoded data removed]",
      "text/plain": [
       "<Figure size 576x432 with 1 Axes>"
      ]
     },
     "metadata": {
      "needs_background": "light"
     },
     "output_type": "display_data"
    }
   ],
   "source": [
    "fig,ax=plt.subplots(figsize=(8,6))\n",
    "\n",
    "xx=pca[:,0]\n",
    "yy=pca[:,1]\n",
    "\n",
    "plt.scatter(xx, yy,\n",
    "            c=winequality_red.red_wine, edgecolor='none',alpha=0.8)\n",
    "plt.xlabel('component 1')\n",
    "plt.ylabel('component 2')\n",
    "plt.axhline(y=0, color='r', linestyle='-')\n",
    "plt.axvline(x=0, color='r', linestyle='-')\n",
    "plt.title(\"First two principal components after scaling\")\n",
    "\n",
    "plt.show()"
   ]
  },
  {
   "cell_type": "code",
   "execution_count": 76,
   "id": "b68eaa26",
   "metadata": {
    "id": "dMPZ9KyVaBi8"
   },
   "outputs": [
    {
     "data": {
      "text/html": [
       "<div>\n",
       "<style scoped>\n",
       "    .dataframe tbody tr th:only-of-type {\n",
       "        vertical-align: middle;\n",
       "    }\n",
       "\n",
       "    .dataframe tbody tr th {\n",
       "        vertical-align: top;\n",
       "    }\n",
       "\n",
       "    .dataframe thead th {\n",
       "        text-align: right;\n",
       "    }\n",
       "</style>\n",
       "<table border=\"1\" class=\"dataframe\">\n",
       "  <thead>\n",
       "    <tr style=\"text-align: right;\">\n",
       "      <th></th>\n",
       "      <th>fixed acidity</th>\n",
       "      <th>volatile acidity</th>\n",
       "      <th>citric acid</th>\n",
       "      <th>residual sugar</th>\n",
       "      <th>chlorides</th>\n",
       "      <th>free sulfur dioxide</th>\n",
       "      <th>total sulfur dioxide</th>\n",
       "      <th>density</th>\n",
       "      <th>pH</th>\n",
       "      <th>sulphates</th>\n",
       "      <th>alcohol</th>\n",
       "      <th>quality</th>\n",
       "    </tr>\n",
       "    <tr>\n",
       "      <th>red_wine</th>\n",
       "      <th></th>\n",
       "      <th></th>\n",
       "      <th></th>\n",
       "      <th></th>\n",
       "      <th></th>\n",
       "      <th></th>\n",
       "      <th></th>\n",
       "      <th></th>\n",
       "      <th></th>\n",
       "      <th></th>\n",
       "      <th></th>\n",
       "      <th></th>\n",
       "    </tr>\n",
       "  </thead>\n",
       "  <tbody>\n",
       "    <tr>\n",
       "      <th>0</th>\n",
       "      <td>6.855123</td>\n",
       "      <td>0.278071</td>\n",
       "      <td>0.334199</td>\n",
       "      <td>6.394343</td>\n",
       "      <td>0.045771</td>\n",
       "      <td>35.317146</td>\n",
       "      <td>138.340144</td>\n",
       "      <td>0.994026</td>\n",
       "      <td>3.188154</td>\n",
       "      <td>0.489700</td>\n",
       "      <td>10.516772</td>\n",
       "      <td>5.878029</td>\n",
       "    </tr>\n",
       "    <tr>\n",
       "      <th>1</th>\n",
       "      <td>8.326365</td>\n",
       "      <td>0.527659</td>\n",
       "      <td>0.271551</td>\n",
       "      <td>2.538512</td>\n",
       "      <td>0.087497</td>\n",
       "      <td>15.841808</td>\n",
       "      <td>46.463905</td>\n",
       "      <td>0.996752</td>\n",
       "      <td>3.310590</td>\n",
       "      <td>0.657866</td>\n",
       "      <td>10.419617</td>\n",
       "      <td>5.636535</td>\n",
       "    </tr>\n",
       "  </tbody>\n",
       "</table>\n",
       "</div>"
      ],
      "text/plain": [
       "          fixed acidity  volatile acidity  citric acid  residual sugar  \\\n",
       "red_wine                                                                 \n",
       "0              6.855123          0.278071     0.334199        6.394343   \n",
       "1              8.326365          0.527659     0.271551        2.538512   \n",
       "\n",
       "          chlorides  free sulfur dioxide  total sulfur dioxide   density  \\\n",
       "red_wine                                                                   \n",
       "0          0.045771            35.317146            138.340144  0.994026   \n",
       "1          0.087497            15.841808             46.463905  0.996752   \n",
       "\n",
       "                pH  sulphates    alcohol   quality  \n",
       "red_wine                                            \n",
       "0         3.188154   0.489700  10.516772  5.878029  \n",
       "1         3.310590   0.657866  10.419617  5.636535  "
      ]
     },
     "execution_count": 76,
     "metadata": {},
     "output_type": "execute_result"
    }
   ],
   "source": [
    "winequality_red_group = winequality_red.groupby(winequality_red.red_wine).mean()\n",
    "winequality_red_group"
   ]
  },
  {
   "cell_type": "markdown",
   "id": "53d49924",
   "metadata": {},
   "source": [
    "### PCA Conclusion"
   ]
  },
  {
   "cell_type": "markdown",
   "id": "7876b461",
   "metadata": {
    "id": "urhndlwBdjRx"
   },
   "source": [
    "Scaling data helps a lot when dealing with PCA. Since the dataset contained a lot more white wines than red, scaling was necessary to improve our model. From PCA analysis we can note that we have two groups of wine. White wine is colored purple (on the left) and red wine is colored yellow (on the right). White wines have on average lower fixed and volatile acidity, chlorides and sulphates than red wines, but have higher residual sugar as well as free and total sulfur dioxides. It's spmewhat challenging interpreting this PCA plot, however we can note that data contains couple outliers from both red and white wines. "
   ]
  },
  {
   "cell_type": "markdown",
   "id": "0c472554",
   "metadata": {
    "id": "dee34fb7"
   },
   "source": [
    "# Is this wine a good quality? Which model can best predict wine quality? - Thomas Boisvert\n",
    "### Regression Analysis"
   ]
  },
  {
   "cell_type": "code",
   "execution_count": 77,
   "id": "c8811ade",
   "metadata": {
    "colab": {
     "base_uri": "https://localhost:8080/",
     "height": 206
    },
    "id": "1d419aaf",
    "outputId": "f31f4f1d-5ffb-471d-f59a-63029f53d199"
   },
   "outputs": [
    {
     "data": {
      "text/html": [
       "<div>\n",
       "<style scoped>\n",
       "    .dataframe tbody tr th:only-of-type {\n",
       "        vertical-align: middle;\n",
       "    }\n",
       "\n",
       "    .dataframe tbody tr th {\n",
       "        vertical-align: top;\n",
       "    }\n",
       "\n",
       "    .dataframe thead th {\n",
       "        text-align: right;\n",
       "    }\n",
       "</style>\n",
       "<table border=\"1\" class=\"dataframe\">\n",
       "  <thead>\n",
       "    <tr style=\"text-align: right;\">\n",
       "      <th></th>\n",
       "      <th>fixed acidity</th>\n",
       "      <th>volatile acidity</th>\n",
       "      <th>citric acid</th>\n",
       "      <th>residual sugar</th>\n",
       "      <th>chlorides</th>\n",
       "      <th>free sulfur dioxide</th>\n",
       "      <th>total sulfur dioxide</th>\n",
       "      <th>density</th>\n",
       "      <th>pH</th>\n",
       "      <th>sulphates</th>\n",
       "      <th>alcohol</th>\n",
       "      <th>quality</th>\n",
       "    </tr>\n",
       "  </thead>\n",
       "  <tbody>\n",
       "    <tr>\n",
       "      <th>1</th>\n",
       "      <td>6.3</td>\n",
       "      <td>0.30</td>\n",
       "      <td>0.34</td>\n",
       "      <td>1.6</td>\n",
       "      <td>0.049</td>\n",
       "      <td>14.0</td>\n",
       "      <td>132.0</td>\n",
       "      <td>0.9940</td>\n",
       "      <td>3.30</td>\n",
       "      <td>0.49</td>\n",
       "      <td>9.5</td>\n",
       "      <td>6</td>\n",
       "    </tr>\n",
       "    <tr>\n",
       "      <th>2</th>\n",
       "      <td>8.1</td>\n",
       "      <td>0.28</td>\n",
       "      <td>0.40</td>\n",
       "      <td>6.9</td>\n",
       "      <td>0.050</td>\n",
       "      <td>30.0</td>\n",
       "      <td>97.0</td>\n",
       "      <td>0.9951</td>\n",
       "      <td>3.26</td>\n",
       "      <td>0.44</td>\n",
       "      <td>10.1</td>\n",
       "      <td>6</td>\n",
       "    </tr>\n",
       "    <tr>\n",
       "      <th>3</th>\n",
       "      <td>7.2</td>\n",
       "      <td>0.23</td>\n",
       "      <td>0.32</td>\n",
       "      <td>8.5</td>\n",
       "      <td>0.058</td>\n",
       "      <td>47.0</td>\n",
       "      <td>186.0</td>\n",
       "      <td>0.9956</td>\n",
       "      <td>3.19</td>\n",
       "      <td>0.40</td>\n",
       "      <td>9.9</td>\n",
       "      <td>6</td>\n",
       "    </tr>\n",
       "    <tr>\n",
       "      <th>4</th>\n",
       "      <td>7.2</td>\n",
       "      <td>0.23</td>\n",
       "      <td>0.32</td>\n",
       "      <td>8.5</td>\n",
       "      <td>0.058</td>\n",
       "      <td>47.0</td>\n",
       "      <td>186.0</td>\n",
       "      <td>0.9956</td>\n",
       "      <td>3.19</td>\n",
       "      <td>0.40</td>\n",
       "      <td>9.9</td>\n",
       "      <td>6</td>\n",
       "    </tr>\n",
       "    <tr>\n",
       "      <th>5</th>\n",
       "      <td>8.1</td>\n",
       "      <td>0.28</td>\n",
       "      <td>0.40</td>\n",
       "      <td>6.9</td>\n",
       "      <td>0.050</td>\n",
       "      <td>30.0</td>\n",
       "      <td>97.0</td>\n",
       "      <td>0.9951</td>\n",
       "      <td>3.26</td>\n",
       "      <td>0.44</td>\n",
       "      <td>10.1</td>\n",
       "      <td>6</td>\n",
       "    </tr>\n",
       "  </tbody>\n",
       "</table>\n",
       "</div>"
      ],
      "text/plain": [
       "   fixed acidity  volatile acidity  citric acid  residual sugar  chlorides  \\\n",
       "1            6.3              0.30         0.34             1.6      0.049   \n",
       "2            8.1              0.28         0.40             6.9      0.050   \n",
       "3            7.2              0.23         0.32             8.5      0.058   \n",
       "4            7.2              0.23         0.32             8.5      0.058   \n",
       "5            8.1              0.28         0.40             6.9      0.050   \n",
       "\n",
       "   free sulfur dioxide  total sulfur dioxide  density    pH  sulphates  \\\n",
       "1                 14.0                 132.0   0.9940  3.30       0.49   \n",
       "2                 30.0                  97.0   0.9951  3.26       0.44   \n",
       "3                 47.0                 186.0   0.9956  3.19       0.40   \n",
       "4                 47.0                 186.0   0.9956  3.19       0.40   \n",
       "5                 30.0                  97.0   0.9951  3.26       0.44   \n",
       "\n",
       "   alcohol  quality  \n",
       "1      9.5        6  \n",
       "2     10.1        6  \n",
       "3      9.9        6  \n",
       "4      9.9        6  \n",
       "5     10.1        6  "
      ]
     },
     "execution_count": 77,
     "metadata": {},
     "output_type": "execute_result"
    }
   ],
   "source": [
    "# use the data without outliers that was processed based on the z-score values.\n",
    "winequality_no_outliers.head()"
   ]
  },
  {
   "cell_type": "code",
   "execution_count": 78,
   "id": "41670692",
   "metadata": {
    "colab": {
     "base_uri": "https://localhost:8080/",
     "height": 165
    },
    "id": "QKEC02UiXn_N",
    "outputId": "9d831bfe-bc44-468b-e08c-e05618e75468"
   },
   "outputs": [
    {
     "data": {
      "text/html": [
       "<div>\n",
       "<style scoped>\n",
       "    .dataframe tbody tr th:only-of-type {\n",
       "        vertical-align: middle;\n",
       "    }\n",
       "\n",
       "    .dataframe tbody tr th {\n",
       "        vertical-align: top;\n",
       "    }\n",
       "\n",
       "    .dataframe thead th {\n",
       "        text-align: right;\n",
       "    }\n",
       "</style>\n",
       "<table border=\"1\" class=\"dataframe\">\n",
       "  <thead>\n",
       "    <tr style=\"text-align: right;\">\n",
       "      <th></th>\n",
       "      <th>fixed acidity</th>\n",
       "      <th>volatile acidity</th>\n",
       "      <th>citric acid</th>\n",
       "      <th>residual sugar</th>\n",
       "      <th>chlorides</th>\n",
       "      <th>free sulfur dioxide</th>\n",
       "      <th>total sulfur dioxide</th>\n",
       "      <th>density</th>\n",
       "      <th>pH</th>\n",
       "      <th>sulphates</th>\n",
       "      <th>alcohol</th>\n",
       "      <th>quality</th>\n",
       "    </tr>\n",
       "  </thead>\n",
       "  <tbody>\n",
       "    <tr>\n",
       "      <th>1</th>\n",
       "      <td>6.3</td>\n",
       "      <td>0.30</td>\n",
       "      <td>0.34</td>\n",
       "      <td>1.6</td>\n",
       "      <td>0.049</td>\n",
       "      <td>14.0</td>\n",
       "      <td>132.0</td>\n",
       "      <td>0.9940</td>\n",
       "      <td>3.30</td>\n",
       "      <td>0.49</td>\n",
       "      <td>9.5</td>\n",
       "      <td>6</td>\n",
       "    </tr>\n",
       "    <tr>\n",
       "      <th>2</th>\n",
       "      <td>8.1</td>\n",
       "      <td>0.28</td>\n",
       "      <td>0.40</td>\n",
       "      <td>6.9</td>\n",
       "      <td>0.050</td>\n",
       "      <td>30.0</td>\n",
       "      <td>97.0</td>\n",
       "      <td>0.9951</td>\n",
       "      <td>3.26</td>\n",
       "      <td>0.44</td>\n",
       "      <td>10.1</td>\n",
       "      <td>6</td>\n",
       "    </tr>\n",
       "    <tr>\n",
       "      <th>3</th>\n",
       "      <td>7.2</td>\n",
       "      <td>0.23</td>\n",
       "      <td>0.32</td>\n",
       "      <td>8.5</td>\n",
       "      <td>0.058</td>\n",
       "      <td>47.0</td>\n",
       "      <td>186.0</td>\n",
       "      <td>0.9956</td>\n",
       "      <td>3.19</td>\n",
       "      <td>0.40</td>\n",
       "      <td>9.9</td>\n",
       "      <td>6</td>\n",
       "    </tr>\n",
       "    <tr>\n",
       "      <th>4</th>\n",
       "      <td>7.2</td>\n",
       "      <td>0.23</td>\n",
       "      <td>0.32</td>\n",
       "      <td>8.5</td>\n",
       "      <td>0.058</td>\n",
       "      <td>47.0</td>\n",
       "      <td>186.0</td>\n",
       "      <td>0.9956</td>\n",
       "      <td>3.19</td>\n",
       "      <td>0.40</td>\n",
       "      <td>9.9</td>\n",
       "      <td>6</td>\n",
       "    </tr>\n",
       "    <tr>\n",
       "      <th>5</th>\n",
       "      <td>8.1</td>\n",
       "      <td>0.28</td>\n",
       "      <td>0.40</td>\n",
       "      <td>6.9</td>\n",
       "      <td>0.050</td>\n",
       "      <td>30.0</td>\n",
       "      <td>97.0</td>\n",
       "      <td>0.9951</td>\n",
       "      <td>3.26</td>\n",
       "      <td>0.44</td>\n",
       "      <td>10.1</td>\n",
       "      <td>6</td>\n",
       "    </tr>\n",
       "  </tbody>\n",
       "</table>\n",
       "</div>"
      ],
      "text/plain": [
       "   fixed acidity  volatile acidity  citric acid  residual sugar  chlorides  \\\n",
       "1            6.3              0.30         0.34             1.6      0.049   \n",
       "2            8.1              0.28         0.40             6.9      0.050   \n",
       "3            7.2              0.23         0.32             8.5      0.058   \n",
       "4            7.2              0.23         0.32             8.5      0.058   \n",
       "5            8.1              0.28         0.40             6.9      0.050   \n",
       "\n",
       "   free sulfur dioxide  total sulfur dioxide  density    pH  sulphates  \\\n",
       "1                 14.0                 132.0   0.9940  3.30       0.49   \n",
       "2                 30.0                  97.0   0.9951  3.26       0.44   \n",
       "3                 47.0                 186.0   0.9956  3.19       0.40   \n",
       "4                 47.0                 186.0   0.9956  3.19       0.40   \n",
       "5                 30.0                  97.0   0.9951  3.26       0.44   \n",
       "\n",
       "   alcohol  quality  \n",
       "1      9.5        6  \n",
       "2     10.1        6  \n",
       "3      9.9        6  \n",
       "4      9.9        6  \n",
       "5     10.1        6  "
      ]
     },
     "execution_count": 78,
     "metadata": {},
     "output_type": "execute_result"
    }
   ],
   "source": [
    "winequality_no_outliers.head()"
   ]
  },
  {
   "cell_type": "code",
   "execution_count": 79,
   "id": "a03fa072",
   "metadata": {},
   "outputs": [
    {
     "name": "stderr",
     "output_type": "stream",
     "text": [
      "<ipython-input-79-a365abfa3658>:2: FutureWarning: In a future version of pandas all arguments of DataFrame.drop except for the argument 'labels' will be keyword-only\n",
      "  X = winequality_no_outliers.drop('quality', 1)\n"
     ]
    }
   ],
   "source": [
    "# Define new x & y\n",
    "X = winequality_no_outliers.drop('quality', 1)\n",
    "y = winequality_no_outliers['quality']"
   ]
  },
  {
   "cell_type": "code",
   "execution_count": 80,
   "id": "bf785ec7",
   "metadata": {},
   "outputs": [],
   "source": [
    "# Split into training and test data\n",
    "X_train, X_test, y_train, y_test = train_test_split(X,y,test_size=0.3, random_state=5)"
   ]
  },
  {
   "cell_type": "code",
   "execution_count": 81,
   "id": "39ba925c",
   "metadata": {
    "id": "tYa04RnIjTUy"
   },
   "outputs": [],
   "source": [
    "from sklearn.preprocessing import StandardScaler"
   ]
  },
  {
   "cell_type": "code",
   "execution_count": 82,
   "id": "7ecc8870",
   "metadata": {},
   "outputs": [],
   "source": [
    "scaler=StandardScaler()\n",
    "X_train_scaled=scaler.fit_transform(X_train)\n",
    "X_test_scaled=scaler.fit_transform(X_test)"
   ]
  },
  {
   "cell_type": "code",
   "execution_count": 83,
   "id": "162a1de5",
   "metadata": {},
   "outputs": [
    {
     "data": {
      "text/plain": [
       "(True, True)"
      ]
     },
     "execution_count": 83,
     "metadata": {},
     "output_type": "execute_result"
    }
   ],
   "source": [
    "np.allclose(np.mean(X_train_scaled,axis=0),0),np.allclose(np.std(X_train_scaled,axis=0),1)"
   ]
  },
  {
   "cell_type": "markdown",
   "id": "2458f70f",
   "metadata": {
    "id": "S7jo1H1zjUK7"
   },
   "source": [
    "### K-Nearest Neighbors"
   ]
  },
  {
   "cell_type": "markdown",
   "id": "6c35a4f5",
   "metadata": {},
   "source": [
    "#### Cross Validation to find the best k value"
   ]
  },
  {
   "cell_type": "code",
   "execution_count": 84,
   "id": "91ddd08d",
   "metadata": {},
   "outputs": [],
   "source": [
    "cvres=[]\n",
    "for i in range(1,20):\n",
    "    clf = KNeighborsClassifier(n_neighbors=i)\n",
    "    nn = cross_validate(clf, X_train_scaled, y_train, cv=5, scoring='accuracy')\n",
    "    cvres.append(nn['test_score'].mean())"
   ]
  },
  {
   "cell_type": "code",
   "execution_count": 85,
   "id": "c2248786",
   "metadata": {
    "scrolled": true
   },
   "outputs": [
    {
     "data": {
      "image/png": "[encoded data removed]",
      "text/plain": [
       "<Figure size 432x288 with 1 Axes>"
      ]
     },
     "metadata": {
      "needs_background": "light"
     },
     "output_type": "display_data"
    }
   ],
   "source": [
    "plt.plot(list(range(1,20)),cvres[0:19],linewidth=2.5)\n",
    "plt.xlabel('neighbors')\n",
    "plt.ylabel('Acc')\n",
    "plt.show()"
   ]
  },
  {
   "cell_type": "markdown",
   "id": "fbf9739b",
   "metadata": {},
   "source": [
    "Max K = 1"
   ]
  },
  {
   "cell_type": "code",
   "execution_count": 86,
   "id": "a8ca1fa1",
   "metadata": {},
   "outputs": [],
   "source": [
    "mod = KNeighborsClassifier(n_neighbors=1)\n",
    "nb1=mod.fit(X_train_scaled,y_train)"
   ]
  },
  {
   "cell_type": "code",
   "execution_count": 87,
   "id": "c01f66f3",
   "metadata": {},
   "outputs": [
    {
     "data": {
      "text/plain": [
       "0.619"
      ]
     },
     "execution_count": 87,
     "metadata": {},
     "output_type": "execute_result"
    }
   ],
   "source": [
    "np.round(accuracy_score(nb1.predict(X_test_scaled),y_test),3)"
   ]
  },
  {
   "cell_type": "code",
   "execution_count": 88,
   "id": "914a14cb",
   "metadata": {},
   "outputs": [
    {
     "name": "stdout",
     "output_type": "stream",
     "text": [
      "              precision    recall  f1-score   support\n",
      "\n",
      "           4       0.34      0.25      0.29        61\n",
      "           5       0.64      0.68      0.66       576\n",
      "           6       0.64      0.63      0.63       785\n",
      "           7       0.58      0.58      0.58       313\n",
      "           8       0.46      0.52      0.49        52\n",
      "\n",
      "    accuracy                           0.62      1787\n",
      "   macro avg       0.53      0.53      0.53      1787\n",
      "weighted avg       0.62      0.62      0.62      1787\n",
      "\n"
     ]
    }
   ],
   "source": [
    "print(classification_report(y_test,nb1.predict(X_test_scaled)))"
   ]
  },
  {
   "cell_type": "markdown",
   "id": "29312f8f",
   "metadata": {
    "id": "SBZhACvGjXyt"
   },
   "source": [
    "### Logistic Regression"
   ]
  },
  {
   "cell_type": "code",
   "execution_count": 89,
   "id": "d1a26684",
   "metadata": {
    "id": "uBa9sAIkjezY"
   },
   "outputs": [],
   "source": [
    "lm = LogisticRegression(random_state=5).fit(X_train_scaled, y_train)"
   ]
  },
  {
   "cell_type": "code",
   "execution_count": 90,
   "id": "42e9189d",
   "metadata": {},
   "outputs": [
    {
     "data": {
      "text/plain": [
       "0.5416899832120873"
      ]
     },
     "execution_count": 90,
     "metadata": {},
     "output_type": "execute_result"
    }
   ],
   "source": [
    "accuracy_score(lm.predict(X_test_scaled),y_test)"
   ]
  },
  {
   "cell_type": "code",
   "execution_count": 91,
   "id": "b53d81c3",
   "metadata": {},
   "outputs": [
    {
     "data": {
      "text/html": [
       "<div>\n",
       "<style scoped>\n",
       "    .dataframe tbody tr th:only-of-type {\n",
       "        vertical-align: middle;\n",
       "    }\n",
       "\n",
       "    .dataframe tbody tr th {\n",
       "        vertical-align: top;\n",
       "    }\n",
       "\n",
       "    .dataframe thead th {\n",
       "        text-align: right;\n",
       "    }\n",
       "</style>\n",
       "<table border=\"1\" class=\"dataframe\">\n",
       "  <thead>\n",
       "    <tr style=\"text-align: right;\">\n",
       "      <th>quality</th>\n",
       "      <th>4</th>\n",
       "      <th>5</th>\n",
       "      <th>6</th>\n",
       "      <th>7</th>\n",
       "      <th>8</th>\n",
       "    </tr>\n",
       "    <tr>\n",
       "      <th>row_0</th>\n",
       "      <th></th>\n",
       "      <th></th>\n",
       "      <th></th>\n",
       "      <th></th>\n",
       "      <th></th>\n",
       "    </tr>\n",
       "  </thead>\n",
       "  <tbody>\n",
       "    <tr>\n",
       "      <th>5</th>\n",
       "      <td>40</td>\n",
       "      <td>336</td>\n",
       "      <td>168</td>\n",
       "      <td>23</td>\n",
       "      <td>2</td>\n",
       "    </tr>\n",
       "    <tr>\n",
       "      <th>6</th>\n",
       "      <td>21</td>\n",
       "      <td>237</td>\n",
       "      <td>570</td>\n",
       "      <td>228</td>\n",
       "      <td>37</td>\n",
       "    </tr>\n",
       "    <tr>\n",
       "      <th>7</th>\n",
       "      <td>0</td>\n",
       "      <td>3</td>\n",
       "      <td>47</td>\n",
       "      <td>62</td>\n",
       "      <td>13</td>\n",
       "    </tr>\n",
       "  </tbody>\n",
       "</table>\n",
       "</div>"
      ],
      "text/plain": [
       "quality   4    5    6    7   8\n",
       "row_0                         \n",
       "5        40  336  168   23   2\n",
       "6        21  237  570  228  37\n",
       "7         0    3   47   62  13"
      ]
     },
     "execution_count": 91,
     "metadata": {},
     "output_type": "execute_result"
    }
   ],
   "source": [
    "pd.crosstab(lm.predict(X_test_scaled),y_test)"
   ]
  },
  {
   "cell_type": "markdown",
   "id": "61046b21",
   "metadata": {
    "id": "lGSUI0aAjfJz"
   },
   "source": [
    "### Decision Tree Classifier"
   ]
  },
  {
   "cell_type": "code",
   "execution_count": 92,
   "id": "04a38042",
   "metadata": {
    "id": "Cgy3hxo8jlcg"
   },
   "outputs": [],
   "source": [
    "Tclf = DecisionTreeClassifier(max_depth=4,random_state=0).fit(X_train,y_train)"
   ]
  },
  {
   "cell_type": "code",
   "execution_count": 93,
   "id": "169a0297",
   "metadata": {},
   "outputs": [
    {
     "data": {
      "text/plain": [
       "0.527700055959709"
      ]
     },
     "execution_count": 93,
     "metadata": {},
     "output_type": "execute_result"
    }
   ],
   "source": [
    "Tclf.score(X_test,y_test)"
   ]
  },
  {
   "cell_type": "markdown",
   "id": "cbc7df04",
   "metadata": {
    "id": "hLAPJDO4jkl1"
   },
   "source": [
    "### Random Forest"
   ]
  },
  {
   "cell_type": "code",
   "execution_count": 94,
   "id": "8425a88e",
   "metadata": {
    "id": "bTz3W2bojtJa"
   },
   "outputs": [],
   "source": [
    "from sklearn.ensemble import RandomForestClassifier"
   ]
  },
  {
   "cell_type": "code",
   "execution_count": 95,
   "id": "6815f13b",
   "metadata": {},
   "outputs": [],
   "source": [
    "rf = RandomForestClassifier(n_estimators=400,max_features='sqrt',random_state=5).fit(X_train,y_train)"
   ]
  },
  {
   "cell_type": "code",
   "execution_count": 96,
   "id": "e74b19fc",
   "metadata": {},
   "outputs": [
    {
     "name": "stdout",
     "output_type": "stream",
     "text": [
      "Accuracy now is 0.6888640179071068\n"
     ]
    }
   ],
   "source": [
    "print(\"Accuracy now is {}\".format(rf.score(X_test,y_test)))"
   ]
  },
  {
   "cell_type": "markdown",
   "id": "6c3200fe",
   "metadata": {},
   "source": [
    "By comparing the methods we have collected for measuring wine quality against one another, it would seem that the Random Forest model would be the most accurate at predicting this."
   ]
  }
 ],
 "metadata": {
  "colab": {
   "collapsed_sections": [
    "taC11ePqK2AI",
    "-TR5BGowLDK_",
    "xipqEF-NXxNF",
    "TDO9qUXyGjmt",
    "O74LIGX3Gv66",
    "9ml_j-WYHfHB",
    "6-Sji9AeICCQ",
    "BdtivSIhLgPZ",
    "dk5OIp-wH23F",
    "mKYwxITgSpOt"
   ],
   "name": "msds599-final.ipynb",
   "provenance": []
  },
  "kernelspec": {
   "display_name": "Python 3",
   "language": "python",
   "name": "python3"
  },
  "language_info": {
   "codemirror_mode": {
    "name": "ipython",
    "version": 3
   },
   "file_extension": ".py",
   "mimetype": "text/x-python",
   "name": "python",
   "nbconvert_exporter": "python",
   "pygments_lexer": "ipython3",
   "version": "3.9.5"
  }
 },
 "nbformat": 4,
 "nbformat_minor": 5
}
